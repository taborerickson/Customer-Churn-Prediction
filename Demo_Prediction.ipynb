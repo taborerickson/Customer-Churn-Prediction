{
 "cells": [
  {
   "cell_type": "markdown",
   "id": "3e6ed371",
   "metadata": {},
   "source": [
    "# Demo \n",
    "\n",
    "#### Loading the Pipeline and Making a Prediction on a Sample Row\n",
    "\n",
    "This notebook demonstrates loading the saved model and running predictions on new sample rows of data "
   ]
  },
  {
   "cell_type": "code",
   "execution_count": null,
   "id": "394bd54f",
   "metadata": {},
   "outputs": [],
   "source": [
    "# Importing libraries \n",
    "import pandas as pd \n",
    "import joblib \n"
   ]
  },
  {
   "cell_type": "code",
   "execution_count": null,
   "id": "3f6c1ad8",
   "metadata": {},
   "outputs": [],
   "source": [
    "pd.set_option('display.max_columns', None) \n",
    "pd.set_option('display.max_rows', None) "
   ]
  },
  {
   "cell_type": "code",
   "execution_count": null,
   "id": "e16e99bb",
   "metadata": {},
   "outputs": [],
   "source": [
    "# Loading the saved pipeline \n",
    "# churn_pipeline_best.joblib \n",
    "\n",
    "model_path = \"../Models/churn_pipeline_best.joblib\" \n",
    "demo_pipe = joblib.load(model_path) \n"
   ]
  },
  {
   "cell_type": "code",
   "execution_count": null,
   "id": "885882a7",
   "metadata": {},
   "outputs": [],
   "source": [
    "# Defining schema for sample data (matching the schema of the training data) \n",
    "demo_columns = [\n",
    "    'gender','SeniorCitizen','Partner','Dependents','tenure','PhoneService','MultipleLines','InternetService','OnlineSecurity','OnlineBackup',\n",
    "    'DeviceProtection','TechSupport','StreamingTV','StreamingMovies','Contract','PaperlessBilling','PaymentMethod','MonthlyCharges','TotalCharges','Churn' \n",
    "]\n",
    "# Adding sample rows as lists \n",
    "demo_rows = [\n",
    "    ['Female',0,'No','No',5,'Yes','No','Fiber optic','No','No','No','No','Yes','No','Month-to-month','Yes','Electronic check',80.0,400.0, 1], \n",
    "    ['Male',1,'Yes','No',24,'Yes','Yes','DSL','Yes','Yes','No','No','No','No','One year','No','Mailed check',55.0,132.0,0],\n",
    "    ['Female',0,'No','Yes',48,'Yes','No','DSL','Yes','Yes','Yes','Yes','Yes','Yes','Two year','No','Credit card (automatic)',65.5,3144.0,0],\n",
    "    ['Male',0,'Yes','Yes',2,'Yes','Yes','Fiber optic','No','No','No','No','Yes','Yes','Month-to-month','Yes','Electronic check',95.0,190.0,1], \n",
    "    ['Female',1,'No','No',60,'Yes','Yes','DSL','Yes','Yes','Yes','Yes','No','No','Two year','No','Bank transfer (automatic)',50.0,3000.0,0],\n",
    "]\n",
    "\n",
    "# Creating dataframe \n",
    "demo_df = pd.DataFrame(demo_rows, columns=demo_columns) \n",
    "print(\"Demo Sample Data: \\n\", demo_df) \n"
   ]
  },
  {
   "cell_type": "code",
   "execution_count": null,
   "id": "f8a94b76",
   "metadata": {},
   "outputs": [],
   "source": [
    "# Separating the features (x) and target (y_true) \n",
    "x = demo_df.drop(columns=['Churn']) \n",
    "y_true = demo_df['Churn'] \n"
   ]
  },
  {
   "cell_type": "code",
   "execution_count": null,
   "id": "735bcf3c",
   "metadata": {},
   "outputs": [],
   "source": [
    "# Making predictions \n",
    "y_proba = demo_pipe.predict_proba(x)[:,1] # churn probabilities \n",
    "# Using the best threshold from the main project notebook (approximated by max F1): ~ 0.6036 \n",
    "y_pred = (y_proba >= 0.6036).astype(int) \n"
   ]
  },
  {
   "cell_type": "code",
   "execution_count": null,
   "id": "8c69c7ee",
   "metadata": {},
   "outputs": [],
   "source": [
    "# Combining results into a single table \n",
    "demo_results = demo_df.copy() \n",
    "demo_results['Churn_Proba'] = y_proba \n",
    "demo_results['Churn_Pred'] = y_pred \n",
    "\n",
    "print(\"Demo Prediction Results: \\n\") \n",
    "display(demo_results[['gender','SeniorCitizen','tenure','MonthlyCharges','TotalCharges','Churn','Churn_Proba','Churn_Pred']]) \n"
   ]
  },
  {
   "cell_type": "code",
   "execution_count": null,
   "id": "4c0d29b9",
   "metadata": {},
   "outputs": [],
   "source": []
  }
 ],
 "metadata": {
  "kernelspec": {
   "display_name": "Python 3",
   "language": "python",
   "name": "python3"
  },
  "language_info": {
   "name": "python",
   "version": "3.12.1"
  }
 },
 "nbformat": 4,
 "nbformat_minor": 5
}
