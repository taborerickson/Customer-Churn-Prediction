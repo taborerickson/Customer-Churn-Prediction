{
 "cells": [
  {
   "cell_type": "markdown",
   "id": "3e6ed371",
   "metadata": {},
   "source": [
    "# Demo \n",
    "\n",
    "#### Loading the Pipeline and Making a Prediction on a Sample Row\n",
    "\n",
    "This notebook demonstrates loading the saved model and running predictions on new sample rows of data "
   ]
  },
  {
   "cell_type": "code",
   "execution_count": null,
   "id": "394bd54f",
   "metadata": {},
   "outputs": [],
   "source": [
    "# Importing libraries \n",
    "import pandas as pd \n",
    "import joblib \n",
    "from pathlib import Path \n",
    "from utils import feature_engineering \n"
   ]
  },
  {
   "cell_type": "code",
   "execution_count": 5,
   "id": "3f6c1ad8",
   "metadata": {},
   "outputs": [],
   "source": [
    "pd.set_option('display.max_columns', None) \n",
    "pd.set_option('display.max_rows', None) "
   ]
  },
  {
   "cell_type": "code",
   "execution_count": 6,
   "id": "4772384c",
   "metadata": {},
   "outputs": [
    {
     "name": "stdout",
     "output_type": "stream",
     "text": [
      "Path to Saved Pipeline -->  /workspaces/Customer-Churn-Prediction/Models/churn_pipeline_best.joblib\n"
     ]
    }
   ],
   "source": [
    "# Defining folder paths \n",
    "# Current directory --> Notebooks/ \n",
    "#data_path = \"../Data/telco_churn_data.csv\" \n",
    "#visuals_path = \"../Visuals\"\n",
    "#model_path = \"../Models\"   \n",
    "\n",
    "model_path = Path('Models/churn_pipeline_best.joblib').resolve() \n",
    "print(\"Path to Saved Pipeline --> \", model_path) \n"
   ]
  },
  {
   "cell_type": "code",
   "execution_count": 7,
   "id": "e16e99bb",
   "metadata": {},
   "outputs": [
    {
     "ename": "AttributeError",
     "evalue": "Can't get attribute 'feature_engineering' on <module '__main__'>",
     "output_type": "error",
     "traceback": [
      "\u001b[31m---------------------------------------------------------------------------\u001b[39m",
      "\u001b[31mAttributeError\u001b[39m                            Traceback (most recent call last)",
      "\u001b[36mCell\u001b[39m\u001b[36m \u001b[39m\u001b[32mIn[7]\u001b[39m\u001b[32m, line 4\u001b[39m\n\u001b[32m      1\u001b[39m \u001b[38;5;66;03m# Loading the saved pipeline \u001b[39;00m\n\u001b[32m      2\u001b[39m \u001b[38;5;66;03m# churn_pipeline_best.joblib \u001b[39;00m\n\u001b[32m----> \u001b[39m\u001b[32m4\u001b[39m demo_pipe = \u001b[43mjoblib\u001b[49m\u001b[43m.\u001b[49m\u001b[43mload\u001b[49m\u001b[43m(\u001b[49m\u001b[43mmodel_path\u001b[49m\u001b[43m)\u001b[49m \n",
      "\u001b[36mFile \u001b[39m\u001b[32m~/.local/lib/python3.12/site-packages/joblib/numpy_pickle.py:749\u001b[39m, in \u001b[36mload\u001b[39m\u001b[34m(filename, mmap_mode, ensure_native_byte_order)\u001b[39m\n\u001b[32m    744\u001b[39m                 \u001b[38;5;28;01mreturn\u001b[39;00m load_compatibility(fobj)\n\u001b[32m    746\u001b[39m             \u001b[38;5;66;03m# A memory-mapped array has to be mapped with the endianness\u001b[39;00m\n\u001b[32m    747\u001b[39m             \u001b[38;5;66;03m# it has been written with. Other arrays are coerced to the\u001b[39;00m\n\u001b[32m    748\u001b[39m             \u001b[38;5;66;03m# native endianness of the host system.\u001b[39;00m\n\u001b[32m--> \u001b[39m\u001b[32m749\u001b[39m             obj = \u001b[43m_unpickle\u001b[49m\u001b[43m(\u001b[49m\n\u001b[32m    750\u001b[39m \u001b[43m                \u001b[49m\u001b[43mfobj\u001b[49m\u001b[43m,\u001b[49m\n\u001b[32m    751\u001b[39m \u001b[43m                \u001b[49m\u001b[43mensure_native_byte_order\u001b[49m\u001b[43m=\u001b[49m\u001b[43mensure_native_byte_order\u001b[49m\u001b[43m,\u001b[49m\n\u001b[32m    752\u001b[39m \u001b[43m                \u001b[49m\u001b[43mfilename\u001b[49m\u001b[43m=\u001b[49m\u001b[43mfilename\u001b[49m\u001b[43m,\u001b[49m\n\u001b[32m    753\u001b[39m \u001b[43m                \u001b[49m\u001b[43mmmap_mode\u001b[49m\u001b[43m=\u001b[49m\u001b[43mvalidated_mmap_mode\u001b[49m\u001b[43m,\u001b[49m\n\u001b[32m    754\u001b[39m \u001b[43m            \u001b[49m\u001b[43m)\u001b[49m\n\u001b[32m    756\u001b[39m \u001b[38;5;28;01mreturn\u001b[39;00m obj\n",
      "\u001b[36mFile \u001b[39m\u001b[32m~/.local/lib/python3.12/site-packages/joblib/numpy_pickle.py:626\u001b[39m, in \u001b[36m_unpickle\u001b[39m\u001b[34m(fobj, ensure_native_byte_order, filename, mmap_mode)\u001b[39m\n\u001b[32m    624\u001b[39m obj = \u001b[38;5;28;01mNone\u001b[39;00m\n\u001b[32m    625\u001b[39m \u001b[38;5;28;01mtry\u001b[39;00m:\n\u001b[32m--> \u001b[39m\u001b[32m626\u001b[39m     obj = \u001b[43munpickler\u001b[49m\u001b[43m.\u001b[49m\u001b[43mload\u001b[49m\u001b[43m(\u001b[49m\u001b[43m)\u001b[49m\n\u001b[32m    627\u001b[39m     \u001b[38;5;28;01mif\u001b[39;00m unpickler.compat_mode:\n\u001b[32m    628\u001b[39m         warnings.warn(\n\u001b[32m    629\u001b[39m             \u001b[33m\"\u001b[39m\u001b[33mThe file \u001b[39m\u001b[33m'\u001b[39m\u001b[38;5;132;01m%s\u001b[39;00m\u001b[33m'\u001b[39m\u001b[33m has been generated with a \u001b[39m\u001b[33m\"\u001b[39m\n\u001b[32m    630\u001b[39m             \u001b[33m\"\u001b[39m\u001b[33mjoblib version less than 0.10. \u001b[39m\u001b[33m\"\u001b[39m\n\u001b[32m   (...)\u001b[39m\u001b[32m    633\u001b[39m             stacklevel=\u001b[32m3\u001b[39m,\n\u001b[32m    634\u001b[39m         )\n",
      "\u001b[36mFile \u001b[39m\u001b[32m/usr/local/python/3.12.1/lib/python3.12/pickle.py:1205\u001b[39m, in \u001b[36m_Unpickler.load\u001b[39m\u001b[34m(self)\u001b[39m\n\u001b[32m   1203\u001b[39m             \u001b[38;5;28;01mraise\u001b[39;00m \u001b[38;5;167;01mEOFError\u001b[39;00m\n\u001b[32m   1204\u001b[39m         \u001b[38;5;28;01massert\u001b[39;00m \u001b[38;5;28misinstance\u001b[39m(key, bytes_types)\n\u001b[32m-> \u001b[39m\u001b[32m1205\u001b[39m         \u001b[43mdispatch\u001b[49m\u001b[43m[\u001b[49m\u001b[43mkey\u001b[49m\u001b[43m[\u001b[49m\u001b[32;43m0\u001b[39;49m\u001b[43m]\u001b[49m\u001b[43m]\u001b[49m\u001b[43m(\u001b[49m\u001b[38;5;28;43mself\u001b[39;49m\u001b[43m)\u001b[49m\n\u001b[32m   1206\u001b[39m \u001b[38;5;28;01mexcept\u001b[39;00m _Stop \u001b[38;5;28;01mas\u001b[39;00m stopinst:\n\u001b[32m   1207\u001b[39m     \u001b[38;5;28;01mreturn\u001b[39;00m stopinst.value\n",
      "\u001b[36mFile \u001b[39m\u001b[32m/usr/local/python/3.12.1/lib/python3.12/pickle.py:1530\u001b[39m, in \u001b[36m_Unpickler.load_stack_global\u001b[39m\u001b[34m(self)\u001b[39m\n\u001b[32m   1528\u001b[39m \u001b[38;5;28;01mif\u001b[39;00m \u001b[38;5;28mtype\u001b[39m(name) \u001b[38;5;129;01mis\u001b[39;00m \u001b[38;5;129;01mnot\u001b[39;00m \u001b[38;5;28mstr\u001b[39m \u001b[38;5;129;01mor\u001b[39;00m \u001b[38;5;28mtype\u001b[39m(module) \u001b[38;5;129;01mis\u001b[39;00m \u001b[38;5;129;01mnot\u001b[39;00m \u001b[38;5;28mstr\u001b[39m:\n\u001b[32m   1529\u001b[39m     \u001b[38;5;28;01mraise\u001b[39;00m UnpicklingError(\u001b[33m\"\u001b[39m\u001b[33mSTACK_GLOBAL requires str\u001b[39m\u001b[33m\"\u001b[39m)\n\u001b[32m-> \u001b[39m\u001b[32m1530\u001b[39m \u001b[38;5;28mself\u001b[39m.append(\u001b[38;5;28;43mself\u001b[39;49m\u001b[43m.\u001b[49m\u001b[43mfind_class\u001b[49m\u001b[43m(\u001b[49m\u001b[43mmodule\u001b[49m\u001b[43m,\u001b[49m\u001b[43m \u001b[49m\u001b[43mname\u001b[49m\u001b[43m)\u001b[49m)\n",
      "\u001b[36mFile \u001b[39m\u001b[32m/usr/local/python/3.12.1/lib/python3.12/pickle.py:1574\u001b[39m, in \u001b[36m_Unpickler.find_class\u001b[39m\u001b[34m(self, module, name)\u001b[39m\n\u001b[32m   1572\u001b[39m \u001b[38;5;28m__import__\u001b[39m(module, level=\u001b[32m0\u001b[39m)\n\u001b[32m   1573\u001b[39m \u001b[38;5;28;01mif\u001b[39;00m \u001b[38;5;28mself\u001b[39m.proto >= \u001b[32m4\u001b[39m:\n\u001b[32m-> \u001b[39m\u001b[32m1574\u001b[39m     \u001b[38;5;28;01mreturn\u001b[39;00m \u001b[43m_getattribute\u001b[49m\u001b[43m(\u001b[49m\u001b[43msys\u001b[49m\u001b[43m.\u001b[49m\u001b[43mmodules\u001b[49m\u001b[43m[\u001b[49m\u001b[43mmodule\u001b[49m\u001b[43m]\u001b[49m\u001b[43m,\u001b[49m\u001b[43m \u001b[49m\u001b[43mname\u001b[49m\u001b[43m)\u001b[49m[\u001b[32m0\u001b[39m]\n\u001b[32m   1575\u001b[39m \u001b[38;5;28;01melse\u001b[39;00m:\n\u001b[32m   1576\u001b[39m     \u001b[38;5;28;01mreturn\u001b[39;00m \u001b[38;5;28mgetattr\u001b[39m(sys.modules[module], name)\n",
      "\u001b[36mFile \u001b[39m\u001b[32m/usr/local/python/3.12.1/lib/python3.12/pickle.py:325\u001b[39m, in \u001b[36m_getattribute\u001b[39m\u001b[34m(obj, name)\u001b[39m\n\u001b[32m    323\u001b[39m         obj = \u001b[38;5;28mgetattr\u001b[39m(obj, subpath)\n\u001b[32m    324\u001b[39m     \u001b[38;5;28;01mexcept\u001b[39;00m \u001b[38;5;167;01mAttributeError\u001b[39;00m:\n\u001b[32m--> \u001b[39m\u001b[32m325\u001b[39m         \u001b[38;5;28;01mraise\u001b[39;00m \u001b[38;5;167;01mAttributeError\u001b[39;00m(\u001b[33m\"\u001b[39m\u001b[33mCan\u001b[39m\u001b[33m'\u001b[39m\u001b[33mt get attribute \u001b[39m\u001b[38;5;132;01m{!r}\u001b[39;00m\u001b[33m on \u001b[39m\u001b[38;5;132;01m{!r}\u001b[39;00m\u001b[33m\"\u001b[39m\n\u001b[32m    326\u001b[39m                              .format(name, obj)) \u001b[38;5;28;01mfrom\u001b[39;00m\u001b[38;5;250m \u001b[39m\u001b[38;5;28;01mNone\u001b[39;00m\n\u001b[32m    327\u001b[39m \u001b[38;5;28;01mreturn\u001b[39;00m obj, parent\n",
      "\u001b[31mAttributeError\u001b[39m: Can't get attribute 'feature_engineering' on <module '__main__'>"
     ]
    }
   ],
   "source": [
    "# Loading the saved pipeline \n",
    "# churn_pipeline_best.joblib \n",
    "\n",
    "demo_pipe = joblib.load(model_path) \n"
   ]
  },
  {
   "cell_type": "code",
   "execution_count": null,
   "id": "885882a7",
   "metadata": {},
   "outputs": [],
   "source": [
    "# Defining schema for sample data (matching the schema of the training data) \n",
    "demo_columns = [\n",
    "    'gender','SeniorCitizen','Partner','Dependents','tenure','PhoneService','MultipleLines','InternetService','OnlineSecurity','OnlineBackup',\n",
    "    'DeviceProtection','TechSupport','StreamingTV','StreamingMovies','Contract','PaperlessBilling','PaymentMethod','MonthlyCharges','TotalCharges','Churn' \n",
    "]\n",
    "# Adding sample rows as lists \n",
    "demo_rows = [\n",
    "    ['Female',0,'No','No',5,'Yes','No','Fiber optic','No','No','No','No','Yes','No','Month-to-month','Yes','Electronic check',80.0,400.0, 1], \n",
    "    ['Male',1,'Yes','No',24,'Yes','Yes','DSL','Yes','Yes','No','No','No','No','One year','No','Mailed check',55.0,132.0,0],\n",
    "    ['Female',0,'No','Yes',48,'Yes','No','DSL','Yes','Yes','Yes','Yes','Yes','Yes','Two year','No','Credit card (automatic)',65.5,3144.0,0],\n",
    "    ['Male',0,'Yes','Yes',2,'Yes','Yes','Fiber optic','No','No','No','No','Yes','Yes','Month-to-month','Yes','Electronic check',95.0,190.0,1], \n",
    "    ['Female',1,'No','No',60,'Yes','Yes','DSL','Yes','Yes','Yes','Yes','No','No','Two year','No','Bank transfer (automatic)',50.0,3000.0,0],\n",
    "]\n",
    "\n",
    "# Creating dataframe \n",
    "demo_df = pd.DataFrame(demo_rows, columns=demo_columns) \n",
    "print(\"Demo Sample Data: \\n\", demo_df) \n"
   ]
  },
  {
   "cell_type": "code",
   "execution_count": null,
   "id": "f8a94b76",
   "metadata": {},
   "outputs": [],
   "source": [
    "# Separating the features (x) and target (y_true) \n",
    "x = demo_df.drop(columns=['Churn']) \n",
    "y_true = demo_df['Churn'] \n"
   ]
  },
  {
   "cell_type": "code",
   "execution_count": null,
   "id": "735bcf3c",
   "metadata": {},
   "outputs": [],
   "source": [
    "# Making predictions \n",
    "y_proba = demo_pipe.predict_proba(x)[:,1] # churn probabilities \n",
    "# Using the best threshold from the main project notebook (approximated by max F1): ~ 0.6036 \n",
    "y_pred = (y_proba >= 0.6036).astype(int) \n"
   ]
  },
  {
   "cell_type": "code",
   "execution_count": null,
   "id": "8c69c7ee",
   "metadata": {},
   "outputs": [],
   "source": [
    "# Combining results into a single table \n",
    "demo_results = demo_df.copy() \n",
    "demo_results['Churn_Proba'] = y_proba \n",
    "demo_results['Churn_Pred'] = y_pred \n",
    "\n",
    "print(\"Demo Prediction Results: \\n\") \n",
    "display(demo_results[['gender','SeniorCitizen','tenure','MonthlyCharges','TotalCharges','Churn','Churn_Proba','Churn_Pred']]) \n"
   ]
  },
  {
   "cell_type": "code",
   "execution_count": null,
   "id": "4c0d29b9",
   "metadata": {},
   "outputs": [],
   "source": []
  }
 ],
 "metadata": {
  "kernelspec": {
   "display_name": "Python 3",
   "language": "python",
   "name": "python3"
  },
  "language_info": {
   "codemirror_mode": {
    "name": "ipython",
    "version": 3
   },
   "file_extension": ".py",
   "mimetype": "text/x-python",
   "name": "python",
   "nbconvert_exporter": "python",
   "pygments_lexer": "ipython3",
   "version": "3.12.1"
  }
 },
 "nbformat": 4,
 "nbformat_minor": 5
}
