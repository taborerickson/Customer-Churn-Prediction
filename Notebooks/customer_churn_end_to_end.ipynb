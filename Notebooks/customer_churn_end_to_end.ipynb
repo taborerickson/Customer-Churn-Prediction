{
 "cells": [
  {
   "cell_type": "markdown",
   "id": "4ac968a5",
   "metadata": {},
   "source": [
    "# Customer Churn Predictions \n",
    "(End-to-end customer churn prediction project) \n",
    "### Using Telco Customer Churn dataset "
   ]
  },
  {
   "cell_type": "code",
   "execution_count": 1,
   "id": "bd2d77ea",
   "metadata": {},
   "outputs": [],
   "source": [
    "# Check to make sure dpendencies are installed"
   ]
  },
  {
   "cell_type": "code",
   "execution_count": 3,
   "id": "6b6197a3",
   "metadata": {},
   "outputs": [],
   "source": [
    "# Importing libraries \n",
    "import os \n",
    "import warnings \n",
    "warnings.filterwarnings('ignore') \n",
    "\n",
    "import pandas as pd \n",
    "import numpy as np \n",
    "import matplotlib.pyplot as plt \n",
    "import seaborn as sns \n",
    "from pathlib import Path \n"
   ]
  },
  {
   "cell_type": "code",
   "execution_count": 4,
   "id": "cf1e5292",
   "metadata": {},
   "outputs": [],
   "source": [
    "# Setting random_state for reproducibility \n",
    "random_state = 42 \n",
    "np.random.seed(random_state) \n"
   ]
  },
  {
   "cell_type": "code",
   "execution_count": 17,
   "id": "ad3123a2",
   "metadata": {},
   "outputs": [
    {
     "name": "stdout",
     "output_type": "stream",
     "text": [
      "Data Path -->  /workspaces/Customer-Churn-Prediction/Data/telco_churn_data.csv\n",
      "Base Data Path --  /workspaces/Customer-Churn-Prediction/Data\n",
      "Visuals Path -->  /workspaces/Customer-Churn-Prediction/Visuals\n",
      "Models Path -->  /workspaces/Customer-Churn-Prediction/Models\n"
     ]
    }
   ],
   "source": [
    "# Defining folder paths \n",
    "# Current directory --> Notebooks/ \n",
    "#data_path = \"../Data/telco_churn_data.csv\" \n",
    "#visuals_path = \"../Visuals\"\n",
    "#model_path = \"../Models\"   \n",
    "\n",
    "data_path = Path('../Data/telco_churn_data.csv').resolve() \n",
    "base_data_path = Path('../Data').resolve() \n",
    "visuals_path = Path('../Visuals').resolve()  \n",
    "models_path = Path('../Models').resolve() \n",
    "\n",
    "visuals_path.mkdir(parents=True, exist_ok=True) \n",
    "models_path.mkdir(parents=True, exist_ok=True) \n",
    "\n",
    "print(\"Data Path --> \", data_path) \n",
    "print(\"Base Data Path -- \", base_data_path) \n",
    "print(\"Visuals Path --> \", visuals_path) \n",
    "print(\"Models Path --> \", models_path) \n",
    "\n",
    "# Function to save data file(s) to Data/ folder \n",
    "def save_data(data: pd.DataFrame, file_name: str): \n",
    "    os.makedirs(base_data_path, exist_ok=True) \n",
    "    file_path = os.path.join(base_data_path, f\"{file_name}.csv\") \n",
    "    data.to_csv(file_path, index=False) \n",
    "    print(f\"Saved -> {file_path}\") \n"
   ]
  },
  {
   "cell_type": "code",
   "execution_count": 18,
   "id": "eead8580",
   "metadata": {},
   "outputs": [],
   "source": [
    "# Plotting settings \n",
    "sns.set_style('whitegrid') \n",
    "plt.rcParams['figure.figsize'] = (10,6) \n"
   ]
  },
  {
   "cell_type": "code",
   "execution_count": 19,
   "id": "0373da73",
   "metadata": {},
   "outputs": [
    {
     "name": "stdout",
     "output_type": "stream",
     "text": [
      "\n",
      "Data Info: \n",
      "<class 'pandas.core.frame.DataFrame'>\n",
      "RangeIndex: 7043 entries, 0 to 7042\n",
      "Data columns (total 21 columns):\n",
      " #   Column            Non-Null Count  Dtype  \n",
      "---  ------            --------------  -----  \n",
      " 0   customerID        7043 non-null   object \n",
      " 1   gender            7043 non-null   object \n",
      " 2   SeniorCitizen     7043 non-null   int64  \n",
      " 3   Partner           7043 non-null   object \n",
      " 4   Dependents        7043 non-null   object \n",
      " 5   tenure            7043 non-null   int64  \n",
      " 6   PhoneService      7043 non-null   object \n",
      " 7   MultipleLines     7043 non-null   object \n",
      " 8   InternetService   7043 non-null   object \n",
      " 9   OnlineSecurity    7043 non-null   object \n",
      " 10  OnlineBackup      7043 non-null   object \n",
      " 11  DeviceProtection  7043 non-null   object \n",
      " 12  TechSupport       7043 non-null   object \n",
      " 13  StreamingTV       7043 non-null   object \n",
      " 14  StreamingMovies   7043 non-null   object \n",
      " 15  Contract          7043 non-null   object \n",
      " 16  PaperlessBilling  7043 non-null   object \n",
      " 17  PaymentMethod     7043 non-null   object \n",
      " 18  MonthlyCharges    7043 non-null   float64\n",
      " 19  TotalCharges      7043 non-null   object \n",
      " 20  Churn             7043 non-null   object \n",
      "dtypes: float64(1), int64(2), object(18)\n",
      "memory usage: 1.1+ MB\n",
      "None\n"
     ]
    }
   ],
   "source": [
    "# Loading data \n",
    "\n",
    "# file path check \n",
    "if not data_path.exists(): \n",
    "    raise FileNotFoundError(f\"Expected data at {data_path}.\") \n",
    "\n",
    "telco_data = pd.read_csv(data_path) \n",
    "telco_data.head() \n",
    "print(\"\\nData Info: \")\n",
    "print(telco_data.info())  \n",
    "\n"
   ]
  },
  {
   "cell_type": "code",
   "execution_count": 20,
   "id": "56cb647a",
   "metadata": {},
   "outputs": [
    {
     "name": "stdout",
     "output_type": "stream",
     "text": [
      "\n",
      "Missing values: \n",
      "customerID          0\n",
      "gender              0\n",
      "SeniorCitizen       0\n",
      "Partner             0\n",
      "Dependents          0\n",
      "tenure              0\n",
      "PhoneService        0\n",
      "MultipleLines       0\n",
      "InternetService     0\n",
      "OnlineSecurity      0\n",
      "OnlineBackup        0\n",
      "DeviceProtection    0\n",
      "TechSupport         0\n",
      "StreamingTV         0\n",
      "StreamingMovies     0\n",
      "Contract            0\n",
      "PaperlessBilling    0\n",
      "PaymentMethod       0\n",
      "MonthlyCharges      0\n",
      "TotalCharges        0\n",
      "Churn               0\n",
      "dtype: int64\n",
      "\n",
      "All unique customerID -->  True\n",
      "\n",
      "TotalCharges NA count (After numeric conversion):  11\n",
      "\n",
      "Rows with tenure == 0 & TotalCharges == NaN :  11\n"
     ]
    }
   ],
   "source": [
    "data = telco_data.copy() \n",
    "\n",
    "# Data checks \n",
    "print(\"\\nMissing values: \") \n",
    "print(data.isna().sum()) \n",
    "\n",
    "# Checking if there are duplicate customerID values \n",
    "print(\"\\nAll unique customerID --> \", data['customerID'].nunique() == len(data)) \n",
    "\n",
    "# Converting TotalCharges to numeric \n",
    "if data['TotalCharges'].dtype == 'object': \n",
    "    data['TotalCharges'] = pd.to_numeric(data['TotalCharges'], errors='coerce') \n",
    "    print(\"\\nTotalCharges NA count (After numeric conversion): \", data['TotalCharges'].isna().sum())\n",
    "\n",
    "# Checking if any rows have tenure == 0 & TotalCharges == NaN \n",
    "# Possible for new customers \n",
    "new_cust = (data['tenure'] == 0) & (data['TotalCharges'].isna()) \n",
    "print(\"\\nRows with tenure == 0 & TotalCharges == NaN : \", new_cust.sum()) \n",
    "\n"
   ]
  },
  {
   "cell_type": "code",
   "execution_count": 21,
   "id": "137bc419",
   "metadata": {},
   "outputs": [
    {
     "name": "stdout",
     "output_type": "stream",
     "text": [
      "Remaining NaN TotalCharges values after fix:  0\n"
     ]
    }
   ],
   "source": [
    "# Changing TotalCharges to 0 if tenure==0 (Assumed it is a new customer) \n",
    "# If any TotalCharges==NaN remain these will be handled later \n",
    "data.loc[(data['tenure']==0) & (data['TotalCharges'].isna()), 'TotalCharges'] = 0.0 \n",
    "print(\"Remaining NaN TotalCharges values after fix: \", data['TotalCharges'].isna().sum()) \n"
   ]
  },
  {
   "cell_type": "code",
   "execution_count": 27,
   "id": "4d8da0a7",
   "metadata": {},
   "outputs": [
    {
     "name": "stdout",
     "output_type": "stream",
     "text": [
      "0    No\n",
      "1    No\n",
      "2    No\n",
      "3    No\n",
      "4    No\n",
      "Name: SeniorCitizen, dtype: object\n"
     ]
    }
   ],
   "source": [
    "# Encoding the SeniorCitizen column to match the other columns (converting 0/1 to labels) \n",
    "data['SeniorCitizen'] = data['SeniorCitizen'].map({0:'No', 1:'Yes'}) \n",
    "print(data['SeniorCitizen'].head())\n"
   ]
  },
  {
   "cell_type": "code",
   "execution_count": 28,
   "id": "fd4c9632",
   "metadata": {},
   "outputs": [
    {
     "name": "stdout",
     "output_type": "stream",
     "text": [
      "Saved -> /workspaces/Customer-Churn-Prediction/Data/cleaned_raw_data.csv\n"
     ]
    }
   ],
   "source": [
    "# Saving cleaned data to Data/ folder \n",
    "save_data(data, \"cleaned_raw_data\") \n"
   ]
  },
  {
   "cell_type": "markdown",
   "id": "1787313f",
   "metadata": {},
   "source": [
    "### Exploratory Data Analysis (EDA) \n",
    "Looking at group churn rates, population comparisons, visualziations, and interpretations. "
   ]
  },
  {
   "cell_type": "code",
   "execution_count": 23,
   "id": "5aaa6811",
   "metadata": {},
   "outputs": [
    {
     "name": "stdout",
     "output_type": "stream",
     "text": [
      "Baseline churn:\n",
      "Churn\n",
      "No     0.73463\n",
      "Yes    0.26537\n",
      "Name: proportion, dtype: float64\n"
     ]
    }
   ],
   "source": [
    "# Finding baseline churn rate (Total churn rate) \n",
    "print(\"Baseline churn:\") \n",
    "print(data['Churn'].value_counts(normalize=True)) \n"
   ]
  },
  {
   "cell_type": "markdown",
   "id": "99da3baf",
   "metadata": {},
   "source": [
    "**Baseline Churn Rate: 26.54%**"
   ]
  },
  {
   "cell_type": "code",
   "execution_count": 24,
   "id": "bffa6852",
   "metadata": {},
   "outputs": [
    {
     "data": {
      "image/png": "[encoded data removed]",
      "text/plain": [
       "<Figure size 1000x600 with 1 Axes>"
      ]
     },
     "metadata": {},
     "output_type": "display_data"
    }
   ],
   "source": [
    "# Churn distribution \n",
    "ax = sns.countplot(x='Churn', data=data) \n",
    "ax.set_title(\"Churn Distribution (count)\") \n",
    "plt.show() \n"
   ]
  },
  {
   "cell_type": "code",
   "execution_count": 25,
   "id": "68411fb6",
   "metadata": {},
   "outputs": [
    {
     "data": {
      "image/png": "[encoded data removed]",
      "text/plain": [
       "<Figure size 1000x600 with 1 Axes>"
      ]
     },
     "metadata": {},
     "output_type": "display_data"
    }
   ],
   "source": [
    "# Savings churn distribution figure to Visuals/ folder \n",
    "ax = sns.countplot(x='Churn', data=data) \n",
    "ax.set_title(\"Churn Distribution (count)\") \n",
    "plt.savefig(visuals_path / 'churn_distribution.png', dpi=150, bbox_inches='tight') \n"
   ]
  },
  {
   "cell_type": "code",
   "execution_count": 26,
   "id": "89e070ef",
   "metadata": {},
   "outputs": [
    {
     "data": {
      "text/html": [
       "<div>\n",
       "<style scoped>\n",
       "    .dataframe tbody tr th:only-of-type {\n",
       "        vertical-align: middle;\n",
       "    }\n",
       "\n",
       "    .dataframe tbody tr th {\n",
       "        vertical-align: top;\n",
       "    }\n",
       "\n",
       "    .dataframe thead th {\n",
       "        text-align: right;\n",
       "    }\n",
       "</style>\n",
       "<table border=\"1\" class=\"dataframe\">\n",
       "  <thead>\n",
       "    <tr style=\"text-align: right;\">\n",
       "      <th>Churn</th>\n",
       "      <th>churn_no_pct</th>\n",
       "      <th>churn_yes_pct</th>\n",
       "    </tr>\n",
       "    <tr>\n",
       "      <th>Partner</th>\n",
       "      <th></th>\n",
       "      <th></th>\n",
       "    </tr>\n",
       "  </thead>\n",
       "  <tbody>\n",
       "    <tr>\n",
       "      <th>No</th>\n",
       "      <td>0.670420</td>\n",
       "      <td>0.329580</td>\n",
       "    </tr>\n",
       "    <tr>\n",
       "      <th>Yes</th>\n",
       "      <td>0.803351</td>\n",
       "      <td>0.196649</td>\n",
       "    </tr>\n",
       "  </tbody>\n",
       "</table>\n",
       "</div>"
      ],
      "text/plain": [
       "Churn    churn_no_pct  churn_yes_pct\n",
       "Partner                             \n",
       "No           0.670420       0.329580\n",
       "Yes          0.803351       0.196649"
      ]
     },
     "execution_count": 26,
     "metadata": {},
     "output_type": "execute_result"
    }
   ],
   "source": [
    "test_crosstab = pd.crosstab(data['Partner'], data['Churn'], normalize='index') \n",
    "test_crosstab = test_crosstab.rename(columns={'No': 'churn_no_pct', 'Yes': 'churn_yes_pct'}) \n",
    "test_crosstab"
   ]
  },
  {
   "cell_type": "code",
   "execution_count": null,
   "id": "4f72ca69",
   "metadata": {},
   "outputs": [],
   "source": [
    "# Creating helper function to calculate cross-tabulations and group churn rates \n",
    "def group_churn(data, group_column, target='Churn'): \n",
    "    cross_tab = pd.crosstab(data[group_column], data[target], normalize='index') \n",
    "    cross_tab = cross_tab.rename(columns={'No': 'churn_no_pct', 'Yes': 'churn_yes_pct'}) \n",
    "    # Population comparison \n",
    "    population_share = data[group_column].value_counts(normalize=True).rename('population_share') \n",
    "    result = cross_tab.join(population_share) \n",
    "    result['group_churn'] = result['churn_yes_pct'] \n",
    "    result['population_churn_share'] = result['population_share'] * result['churn_yes_pct'] \n",
    "    return result \n",
    "\n"
   ]
  },
  {
   "cell_type": "code",
   "execution_count": null,
   "id": "475e7c81",
   "metadata": {},
   "outputs": [],
   "source": [
    "# \n",
    "\n"
   ]
  },
  {
   "cell_type": "code",
   "execution_count": null,
   "id": "c814cf7c",
   "metadata": {},
   "outputs": [],
   "source": []
  },
  {
   "cell_type": "code",
   "execution_count": null,
   "id": "f48dc80a",
   "metadata": {},
   "outputs": [],
   "source": []
  },
  {
   "cell_type": "code",
   "execution_count": null,
   "id": "8083a22d",
   "metadata": {},
   "outputs": [],
   "source": []
  },
  {
   "cell_type": "code",
   "execution_count": null,
   "id": "d6f80687",
   "metadata": {},
   "outputs": [],
   "source": [
    "# Loading data \n",
    "data_path = \"../Data/telco_churn_data.csv\"\n",
    "telco_data = pd.read_csv(data_path)  \n",
    "print(telco_data.info()) \n",
    "print(\"\\n\", telco_data.head())\n",
    "\n",
    "\n",
    "# Saving cleaned data to data folder \n",
    "def save_data(data: pd.DataFrame, file_name: str): \n",
    "    os.makedirs(save_path, exist_ok=True) \n",
    "    file_path = os.path.join(save_path, f\"{file_name}.csv\") \n",
    "    data.to_csv(file_path, index=False) \n",
    "    print(f\"Saved -> {file_path}\") \n",
    "\n",
    "#save_path = \"../Data/\" \n",
    "#save_data(cleaned_data, \"cleaned_churn_data\") "
   ]
  },
  {
   "cell_type": "code",
   "execution_count": null,
   "id": "c0cf3f0e",
   "metadata": {},
   "outputs": [],
   "source": []
  },
  {
   "cell_type": "code",
   "execution_count": null,
   "id": "3db820c0",
   "metadata": {},
   "outputs": [],
   "source": [
    "# Machine Learning Libraries \n",
    "from sklearn.model_selection import train_test_split, StratifiedKFold, RandomizedSearchCV  \n",
    "from sklearn.preprocessing import OneHotEncoder, StandardScaler \n",
    "from sklearn.impute import SimpleImputer \n",
    "from sklearn.compose import ColumnTransformer \n",
    "from sklearn.pipeline import Pipeline \n",
    "from sklearn.linear_model import LogisticRegression \n",
    "from sklearn.ensemble import RandomForestClassifier \n",
    "from sklearn.metrics import (\n",
    "    roc_auc_score, \n",
    "    average_precision_score, \n",
    "    roc_curve, \n",
    "    precision_recall_curve, \n",
    "    classification_report, \n",
    "    confusion_matrix\n",
    ")\n",
    "from imblearn.over_sampling import SMOTE \n",
    "from imblearn.pipeline import Pipeline as ImbPipeline \n",
    "\n",
    "import joblib \n",
    "\n",
    "# Heavy Libraries \n",
    "try: \n",
    "    import xgboost as xgb \n",
    "except Exception: \n",
    "    xgb = None \n",
    "\n",
    "try: \n",
    "    import shap \n",
    "except Exception: \n",
    "    shap = None \n"
   ]
  },
  {
   "cell_type": "code",
   "execution_count": null,
   "id": "e735c098",
   "metadata": {},
   "outputs": [],
   "source": []
  },
  {
   "cell_type": "code",
   "execution_count": null,
   "id": "edd58a99",
   "metadata": {},
   "outputs": [],
   "source": []
  },
  {
   "cell_type": "code",
   "execution_count": null,
   "id": "2f3d8e08",
   "metadata": {},
   "outputs": [],
   "source": []
  },
  {
   "cell_type": "code",
   "execution_count": null,
   "id": "8fc562c5",
   "metadata": {},
   "outputs": [],
   "source": []
  }
 ],
 "metadata": {
  "kernelspec": {
   "display_name": "Python 3",
   "language": "python",
   "name": "python3"
  },
  "language_info": {
   "codemirror_mode": {
    "name": "ipython",
    "version": 3
   },
   "file_extension": ".py",
   "mimetype": "text/x-python",
   "name": "python",
   "nbconvert_exporter": "python",
   "pygments_lexer": "ipython3",
   "version": "3.12.1"
  }
 },
 "nbformat": 4,
 "nbformat_minor": 5
}
