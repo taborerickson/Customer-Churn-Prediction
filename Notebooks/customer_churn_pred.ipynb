{
 "cells": [
  {
   "cell_type": "markdown",
   "id": "300fbdad",
   "metadata": {},
   "source": [
    "<center> \n",
    "\n",
    "### Customer Churn Preprocessing, Feature Engineering, and Modeling\n",
    "\n",
    "</center>"
   ]
  },
  {
   "cell_type": "code",
   "execution_count": null,
   "id": "e2609cb1",
   "metadata": {},
   "outputs": [],
   "source": [
    "# Installing dependencies via requirements.txt \n",
    "#%pip install -r ../requirements.txt \n"
   ]
  },
  {
   "cell_type": "code",
   "execution_count": null,
   "id": "4c7281c5",
   "metadata": {},
   "outputs": [],
   "source": [
    "# Importing libraries \n",
    "import warnings \n",
    "warnings.filterwarnings('ignore') \n",
    "\n",
    "import sys \n",
    "import pandas as pd \n",
    "import numpy as np \n",
    "import matplotlib.pyplot as plt \n",
    "from pathlib import Path \n",
    "\n",
    "from sklearn.model_selection import train_test_split, StratifiedKFold, RandomizedSearchCV  \n",
    "from sklearn.preprocessing import OneHotEncoder, StandardScaler, FunctionTransformer \n",
    "from sklearn.impute import SimpleImputer \n",
    "from sklearn.compose import ColumnTransformer \n",
    "from sklearn.pipeline import Pipeline \n",
    "from sklearn.linear_model import LogisticRegression \n",
    "from sklearn.ensemble import RandomForestClassifier \n",
    "from sklearn.metrics import (\n",
    "    roc_auc_score, \n",
    "    average_precision_score, \n",
    "    roc_curve, \n",
    "    precision_recall_curve, \n",
    "    classification_report, \n",
    "    confusion_matrix\n",
    ")\n",
    "from imblearn.over_sampling import SMOTE \n",
    "from imblearn.pipeline import Pipeline as ImbPipeline \n",
    "\n",
    "import joblib \n",
    "\n",
    "try: \n",
    "    import shap \n",
    "except Exception: \n",
    "    shap = None \n",
    "\n",
    "# Getting the project root \n",
    "project_root = Path().resolve().parent \n",
    "sys.path.append(str(project_root)) \n",
    "\n",
    "from src.feature_engineering import feature_engineering \n",
    "from src.utils import model_path, data_path, visuals_path \n",
    "from src.preprocessing import create_logistic_pipeline, create_random_forest_pipeline, create_preprocessing_pipeline \n"
   ]
  },
  {
   "cell_type": "code",
   "execution_count": null,
   "metadata": {},
   "outputs": [],
   "source": [
    "# Setting random_state for reproducibility \n",
    "random_state = 42 \n",
    "np.random.seed(random_state)\n"
   ]
  },
  {
   "cell_type": "code",
   "execution_count": null,
   "id": "eb986a08",
   "metadata": {},
   "outputs": [],
   "source": [
    "# Loading data \n",
    "cleaned_raw_data_path = data_path / \"cleaned_raw_data.csv\" \n",
    "cleaned_data = pd.read_csv(cleaned_raw_data_path) \n",
    "print(cleaned_data.info()) \n"
   ]
  },
  {
   "cell_type": "code",
   "execution_count": null,
   "id": "e3cdf047",
   "metadata": {},
   "outputs": [],
   "source": [
    "# Making copy of the data \n",
    "data = cleaned_data.copy() \n"
   ]
  },
  {
   "cell_type": "code",
   "execution_count": null,
   "id": "f4b0abae",
   "metadata": {},
   "outputs": [],
   "source": [
    "# Dropping customerID column and mapping target column (Churn) \n",
    "data.drop(columns=['customerID'], inplace=True, errors='ignore')\n",
    "data['Churn'] = data['Churn'].map({'Yes':1, 'No':0}) \n"
   ]
  },
  {
   "cell_type": "code",
   "execution_count": null,
   "id": "19606b95",
   "metadata": {},
   "outputs": [],
   "source": [
    "# Applying feature engineering to data \n",
    "data = feature_engineering(data) \n",
    "# Checking features \n",
    "data[['tenure','MonthlyCharges','TotalCharges','AvgChargesPerMonth','fiber_internet','electronic_check','month_to_month','internet_services_count']].head() \n"
   ]
  },
  {
   "cell_type": "code",
   "execution_count": null,
   "id": "e9d4ae6e",
   "metadata": {},
   "outputs": [],
   "source": [
    "# Column \n"
   ]
  },
  {
   "cell_type": "code",
   "execution_count": null,
   "metadata": {},
   "outputs": [],
   "source": []
  },
  {
   "cell_type": "code",
   "execution_count": null,
   "id": "4f8e75bf",
   "metadata": {},
   "outputs": [],
   "source": []
  },
  {
   "cell_type": "code",
   "execution_count": null,
   "id": "2e0db17f",
   "metadata": {},
   "outputs": [],
   "source": []
  },
  {
   "cell_type": "code",
   "execution_count": null,
   "id": "1567084b",
   "metadata": {},
   "outputs": [],
   "source": []
  },
  {
   "cell_type": "code",
   "execution_count": null,
   "id": "b80ed6a8",
   "metadata": {},
   "outputs": [],
   "source": []
  },
  {
   "cell_type": "code",
   "execution_count": null,
   "id": "3a8b9aba",
   "metadata": {},
   "outputs": [],
   "source": []
  },
  {
   "cell_type": "code",
   "execution_count": null,
   "id": "f38c15e3",
   "metadata": {},
   "outputs": [],
   "source": []
  }
 ],
 "metadata": {
  "kernelspec": {
   "display_name": "Python 3",
   "language": "python",
   "name": "python3"
  },
  "language_info": {
   "name": "python",
   "version": "3.12.1"
  }
 },
 "nbformat": 4,
 "nbformat_minor": 5
}
