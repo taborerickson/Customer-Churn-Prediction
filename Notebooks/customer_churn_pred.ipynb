{
 "cells": [
  {
   "cell_type": "markdown",
   "id": "6eed9923",
   "metadata": {},
   "source": [
    "## Customer Churn Predictions"
   ]
  },
  {
   "cell_type": "markdown",
   "id": "bd8e54e7",
   "metadata": {},
   "source": [
    "Dependencies: <br> \n",
    "pandas, numpy, scikit-learn, imbalanced-learn, matplotlib, seaborn, plotly, xgboost, shap, joblib"
   ]
  },
  {
   "cell_type": "code",
   "execution_count": null,
   "id": "ee8de5bb",
   "metadata": {},
   "outputs": [],
   "source": []
  },
  {
   "cell_type": "code",
   "execution_count": null,
   "id": "4cde4a51",
   "metadata": {},
   "outputs": [],
   "source": []
  },
  {
   "cell_type": "code",
   "execution_count": null,
   "id": "54df09b9",
   "metadata": {},
   "outputs": [],
   "source": []
  },
  {
   "cell_type": "code",
   "execution_count": null,
   "id": "c5f31d8c",
   "metadata": {},
   "outputs": [],
   "source": []
  },
  {
   "cell_type": "code",
   "execution_count": null,
   "id": "7ce3052b",
   "metadata": {},
   "outputs": [],
   "source": []
  },
  {
   "cell_type": "code",
   "execution_count": null,
   "id": "83984b33",
   "metadata": {},
   "outputs": [],
   "source": []
  },
  {
   "cell_type": "code",
   "execution_count": null,
   "id": "be2e13ce",
   "metadata": {},
   "outputs": [],
   "source": []
  },
  {
   "cell_type": "code",
   "execution_count": null,
   "id": "838cc82a",
   "metadata": {},
   "outputs": [],
   "source": []
  }
 ],
 "metadata": {
  "kernelspec": {
   "display_name": ".venv",
   "language": "python",
   "name": "python3"
  },
  "language_info": {
   "name": "python",
   "version": "3.12.1"
  }
 },
 "nbformat": 4,
 "nbformat_minor": 5
}
