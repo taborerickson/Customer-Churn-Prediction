{
 "cells": [
  {
   "cell_type": "markdown",
   "id": "c9bcffab",
   "metadata": {},
   "source": [
    "<center> \n",
    "\n",
    "# Customer Churn EDA <br> \n",
    "\n",
    "</center>"
   ]
  },
  {
   "cell_type": "code",
   "execution_count": 1,
   "id": "249fbdc9",
   "metadata": {},
   "outputs": [],
   "source": [
    "# Installing dependencies via requirements.txt \n",
    "#%pip install -r ../requirements.txt \n"
   ]
  },
  {
   "cell_type": "code",
   "execution_count": 4,
   "id": "8fb6119c",
   "metadata": {},
   "outputs": [
    {
     "ename": "AttributeError",
     "evalue": "'function' object has no attribute 'parent'",
     "output_type": "error",
     "traceback": [
      "\u001b[31m---------------------------------------------------------------------------\u001b[39m",
      "\u001b[31mAttributeError\u001b[39m                            Traceback (most recent call last)",
      "\u001b[36mCell\u001b[39m\u001b[36m \u001b[39m\u001b[32mIn[4]\u001b[39m\u001b[32m, line 17\u001b[39m\n\u001b[32m     14\u001b[39m sys.path.append(\u001b[38;5;28mstr\u001b[39m(project_root)) \n\u001b[32m     16\u001b[39m \u001b[38;5;66;03m# src/utils.py \u001b[39;00m\n\u001b[32m---> \u001b[39m\u001b[32m17\u001b[39m \u001b[38;5;28;01mfrom\u001b[39;00m\u001b[38;5;250m \u001b[39m\u001b[34;01msrc\u001b[39;00m\u001b[34;01m.\u001b[39;00m\u001b[34;01mutils\u001b[39;00m\u001b[38;5;250m \u001b[39m\u001b[38;5;28;01mimport\u001b[39;00m data_path, visuals_path, save_data, group_churn \n\u001b[32m     18\u001b[39m \u001b[38;5;28;01mfrom\u001b[39;00m\u001b[38;5;250m \u001b[39m\u001b[34;01msrc\u001b[39;00m\u001b[34;01m.\u001b[39;00m\u001b[34;01mfeature_engineering\u001b[39;00m\u001b[38;5;250m \u001b[39m\u001b[38;5;28;01mimport\u001b[39;00m clean_column_names, handle_missing_values \n",
      "\u001b[36mFile \u001b[39m\u001b[32m/workspaces/Customer-Churn-Prediction/src/utils.py:11\u001b[39m\n\u001b[32m      8\u001b[39m \u001b[38;5;28;01mimport\u001b[39;00m\u001b[38;5;250m \u001b[39m\u001b[34;01mpandas\u001b[39;00m\u001b[38;5;250m \u001b[39m\u001b[38;5;28;01mas\u001b[39;00m\u001b[38;5;250m \u001b[39m\u001b[34;01mpd\u001b[39;00m \n\u001b[32m     10\u001b[39m \u001b[38;5;66;03m# Defining project paths \u001b[39;00m\n\u001b[32m---> \u001b[39m\u001b[32m11\u001b[39m base_path = \u001b[43mPath\u001b[49m\u001b[43m(\u001b[49m\u001b[34;43m__file__\u001b[39;49m\u001b[43m)\u001b[49m\u001b[43m.\u001b[49m\u001b[43mresolve\u001b[49m\u001b[43m.\u001b[49m\u001b[43mparent\u001b[49m[\u001b[32m1\u001b[39m] \n\u001b[32m     12\u001b[39m data_path = base_path / \u001b[33m\"\u001b[39m\u001b[33mData\u001b[39m\u001b[33m\"\u001b[39m \n\u001b[32m     13\u001b[39m model_path = base_path / \u001b[33m\"\u001b[39m\u001b[33mModels\u001b[39m\u001b[33m\"\u001b[39m \n",
      "\u001b[31mAttributeError\u001b[39m: 'function' object has no attribute 'parent'"
     ]
    }
   ],
   "source": [
    "# Importing libraries\n",
    "import warnings \n",
    "warnings.filterwarnings('ignore') \n",
    "\n",
    "import sys \n",
    "import pandas as pd \n",
    "import numpy as np \n",
    "import matplotlib.pyplot as plt \n",
    "import seaborn as sns \n",
    "from pathlib import Path \n",
    "\n",
    "# Getting the project root \n",
    "project_root = Path().resolve().parent \n",
    "sys.path.append(str(project_root)) \n",
    "\n",
    "# src/utils.py \n",
    "from src.utils import data_path, visuals_path, save_data, group_churn \n",
    "from src.feature_engineering import clean_column_names, handle_missing_values \n",
    "\n"
   ]
  },
  {
   "cell_type": "code",
   "execution_count": null,
   "metadata": {},
   "outputs": [],
   "source": [
    "# Setting random_state for reproducibility \n",
    "random_state = 42 \n",
    "np.random.seed(random_state )\n"
   ]
  },
  {
   "cell_type": "code",
   "execution_count": null,
   "id": "67fbecf7",
   "metadata": {},
   "outputs": [],
   "source": [
    "# Plotting settings \n",
    "sns.set_style('whitegrid') \n",
    "plt.rcParams['figure.figsize'] = (10,6) \n"
   ]
  },
  {
   "cell_type": "code",
   "execution_count": null,
   "id": "57fa04ae",
   "metadata": {},
   "outputs": [],
   "source": [
    "# Loading data \n",
    "telco_data_path = data_path / \"telco_churn_data.csv\" \n",
    "\n",
    "telco_data = pd.read_csv(telco_data_path) \n",
    "telco_data.head() \n",
    "print(\"\\nData Info: \") \n",
    "print(telco_data.info()) \n"
   ]
  },
  {
   "cell_type": "code",
   "execution_count": null,
   "id": "13bb0f1d",
   "metadata": {},
   "outputs": [],
   "source": [
    "data = telco_data.copy() \n",
    "\n",
    "# Data checks \n",
    "print(\"\\nMissing values: \") \n",
    "print(data.isna().sum()) \n",
    "\n",
    "# Checking if there are duplicate customerID values \n",
    "print(\"\\nAll unique customerID --> \", data['customerID'].nunique() == len(data)) \n"
   ]
  },
  {
   "cell_type": "code",
   "execution_count": null,
   "metadata": {},
   "outputs": [],
   "source": [
    "# Cleaning column names \n",
    "data = clean_column_names(data) \n",
    "# Correcting totalcharges column \n",
    "data = handle_missing_values(data) \n",
    "print(data.info()) \n"
   ]
  },
  {
   "cell_type": "code",
   "execution_count": null,
   "id": "eabb5443",
   "metadata": {},
   "outputs": [],
   "source": [
    "# Saving cleaned data to Data/ folder \n",
    "#save_data(data, \"cleaned_raw_data\") \n"
   ]
  },
  {
   "cell_type": "markdown",
   "id": "6df706bc",
   "metadata": {},
   "source": [
    "<center> \n",
    "\n",
    "### Exploratory Data Analysis (EDA) <br> \n",
    "Looking at group churn rates, population comparisons, visualizations, and interpretations \n",
    "\n",
    "</center>"
   ]
  },
  {
   "cell_type": "code",
   "execution_count": null,
   "metadata": {},
   "outputs": [],
   "source": [
    "# Finding baseline churn rate (Total churn rate) \n",
    "print(\"Baseline churn:\") \n",
    "print(data['churn'].value_counts(normalize=True)) \n"
   ]
  },
  {
   "cell_type": "markdown",
   "id": "f164605f",
   "metadata": {},
   "source": [
    "<center> \n",
    "\n",
    "**Baseline Churn Rate: 26.54%** \n",
    "\n",
    "</center> "
   ]
  },
  {
   "cell_type": "code",
   "execution_count": null,
   "id": "976ef9d9",
   "metadata": {},
   "outputs": [],
   "source": [
    "# Churn distribution \n",
    "ax = sns.countplot(x='churn', data=data) \n",
    "ax.set_title(\"Churn Distribution (count)\") \n",
    "#plt.savefig(visuals_path / 'churn_distribution.png', dpi=150, bbox_inches='tight') \n",
    "plt.show() \n"
   ]
  },
  {
   "cell_type": "code",
   "execution_count": null,
   "id": "402d80fc",
   "metadata": {},
   "outputs": [],
   "source": [
    "# Calculating cross-tabs for seniorcitizen \n",
    "# Adding calculations to separate Senior/Non-Senior \n",
    "senior_crosstab = pd.crosstab(data['seniorcitizen'], data['churn'], normalize=True, margins=True) \n",
    "senior_crosstab = senior_crosstab.rename(columns={'No':'churn_no_pct', 'Yes':'churn_yes_pct'})\n",
    "print(\"Senior Citizen cross-tabulation: \") \n",
    "senior_crosstab"
   ]
  },
  {
   "cell_type": "code",
   "execution_count": null,
   "id": "c50df981",
   "metadata": {},
   "outputs": [],
   "source": [
    "# Calculating spearate percentages for senior/non-senior \n",
    "senior_churn = senior_crosstab.loc['Yes','churn_yes_pct'] if 'Yes' in senior_crosstab.index else None \n",
    "non_senior_churn = senior_crosstab.loc['No','churn_yes_pct'] \n",
    "print(\"Senior (in-group) Churn (Yes): \", senior_churn) \n",
    "print(\"\\nNon-Senior (in-group) Churn (Yes): \", non_senior_churn) \n",
    "\n"
   ]
  },
  {
   "cell_type": "markdown",
   "id": "bb21ff6b",
   "metadata": {},
   "source": [
    "**Note:** <br>\n",
    "Senior citizens had a population churn rate of 6.76%, however, looking at in-group rates senior citizens had a much higher churn rate of 41.68% compared to non-senior citizens in-group churn rate of 23.61%.  \n",
    "Despite senior citizens having the higher in-group churn rate, non-senior citizens still had a much higher population churn share (19.78%). "
   ]
  },
  {
   "cell_type": "code",
   "execution_count": null,
   "id": "08834feb",
   "metadata": {},
   "outputs": [],
   "source": [
    "# Contract type and churn \n",
    "contract_stats = group_churn(data, 'contract') \n",
    "print(contract_stats[['group_churn','population_share','population_churn_share']]) \n",
    "# Bar plot \n",
    "ax = contract_stats['group_churn'].plot(kind='bar') \n",
    "ax.set_ylabel('In-Group Churn Rate (P(Churn=Yes | Contract))') \n",
    "ax.set_title('Churn by Contract Type (in-group)') \n",
    "plt.xticks(rotation=0) \n",
    "# Saving figure \n",
    "#plt.savefig(visuals_path / 'churn_by_contract.png', dpi=150, bbox_inches='tight') \n",
    "plt.show() \n"
   ]
  },
  {
   "cell_type": "code",
   "execution_count": null,
   "id": "a5080667",
   "metadata": {},
   "outputs": [],
   "source": [
    "# Internet service and churn \n",
    "InternetService_stats = group_churn(data, 'internetservice') \n",
    "print(InternetService_stats[['group_churn','population_share','population_churn_share']]) \n",
    "# Bar plot \n",
    "ax = InternetService_stats['group_churn'].plot(kind='bar') \n",
    "ax.set_ylabel('In-Group Churn Rate') \n",
    "ax.set_title('Churn by Internet Service') \n",
    "plt.xticks(rotation=0) \n",
    "# Saving figure \n",
    "#plt.savefig(visuals_path / 'churn_by_internet_service.png', dpi=150, bbox_inches='tight') \n",
    "plt.show() \n"
   ]
  },
  {
   "cell_type": "code",
   "execution_count": null,
   "id": "6dbc9a0e",
   "metadata": {},
   "outputs": [],
   "source": [
    "# Gender and churn \n",
    "gender_stats = group_churn(data, 'gender') \n",
    "print(gender_stats[['group_churn','population_share','population_churn_share']]) \n",
    "# Bar plot \n",
    "ax = gender_stats['group_churn'].plot(kind='bar') \n",
    "ax.set_ylabel('In-Group Churn Rate') \n",
    "ax.set_title('Churn by Gender Service') \n",
    "plt.xticks(rotation=0) \n",
    "# Saving figure \n",
    "#plt.savefig(visuals_path / 'churn_by_gender.png', dpi=150, bbox_inches='tight') \n",
    "plt.show() \n"
   ]
  },
  {
   "cell_type": "code",
   "execution_count": null,
   "id": "09c21d0d",
   "metadata": {},
   "outputs": [],
   "source": [
    "# Partner and churn \n",
    "partner_stats = group_churn(data, 'partner') \n",
    "print(partner_stats[['group_churn','population_share','population_churn_share']]) \n",
    "# Bar plot \n",
    "ax = partner_stats['group_churn'].plot(kind='bar') \n",
    "ax.set_ylabel('In-Group Churn Rate') \n",
    "ax.set_title('Churn by Partner (has partner - Yes/No)') \n",
    "plt.xticks(rotation=0) \n",
    "# Saving figure \n",
    "#plt.savefig(visuals_path / 'churn_by_partner.png', dpi=150, bbox_inches='tight') \n",
    "plt.show() \n"
   ]
  },
  {
   "cell_type": "code",
   "execution_count": null,
   "id": "b51813a3",
   "metadata": {},
   "outputs": [],
   "source": [
    "# Dependents and churn \n",
    "dependents_stats = group_churn(data, 'dependents') \n",
    "print(dependents_stats[['group_churn','population_share','population_churn_share']]) \n",
    "# Bar Plot \n",
    "ax = dependents_stats['group_churn'].plot(kind='bar') \n",
    "ax.set_ylabel('In-Group Churn Rate') \n",
    "ax.set_title('Churn by Dependents (has dependents)') \n",
    "plt.xticks(rotation=0) \n",
    "# Saving figure \n",
    "#plt.savefig(visuals_path / 'churn_by_dependents.png', dpi=150, bbox_inches='tight') \n",
    "plt.show()\n"
   ]
  },
  {
   "cell_type": "code",
   "execution_count": null,
   "id": "d2096f1f",
   "metadata": {},
   "outputs": [],
   "source": [
    "# Phone service and churn \n",
    "PhoneService_stats = group_churn(data, 'phoneservice') \n",
    "print(PhoneService_stats[['group_churn','population_share','population_churn_share']]) \n",
    "# Bar Plot \n",
    "ax = PhoneService_stats['group_churn'].plot(kind='bar') \n",
    "ax.set_ylabel('In-Group Churn Rate') \n",
    "ax.set_title('Churn by Phone Service') \n",
    "plt.xticks(rotation=0) \n",
    "# Saving figure \n",
    "#plt.savefig(visuals_path / 'churn_by_phone_service.png', dpi=150, bbox_inches='tight') \n",
    "plt.show()\n"
   ]
  },
  {
   "cell_type": "code",
   "execution_count": null,
   "id": "ab6b56e5",
   "metadata": {},
   "outputs": [],
   "source": [
    "# Multiple lines and churn \n",
    "MultipleLines_stats = group_churn(data, 'multiplelines') \n",
    "print(MultipleLines_stats[['group_churn','population_share','population_churn_share']]) \n",
    "# Bar Plot \n",
    "ax = MultipleLines_stats['group_churn'].plot(kind='bar') \n",
    "ax.set_ylabel('In-Group Churn Rate') \n",
    "ax.set_title('Churn by Multiple Lines') \n",
    "plt.xticks(rotation=0) \n",
    "# Saving figure \n",
    "#plt.savefig(visuals_path / 'churn_by_multiple_lines.png', dpi=150, bbox_inches='tight') \n",
    "plt.show()\n"
   ]
  },
  {
   "cell_type": "code",
   "execution_count": null,
   "id": "9a71e100",
   "metadata": {},
   "outputs": [],
   "source": [
    "# Online security and churn \n",
    "OnlineSecurity_stats = group_churn(data, 'onlinesecurity') \n",
    "print(OnlineSecurity_stats[['group_churn','population_share','population_churn_share']]) \n",
    "# Bar Plot \n",
    "ax = OnlineSecurity_stats['group_churn'].plot(kind='bar') \n",
    "ax.set_ylabel('In-Group Churn Rate') \n",
    "ax.set_title('Churn by Online Security') \n",
    "plt.xticks(rotation=0) \n",
    "# Saving figure \n",
    "#plt.savefig(visuals_path / 'churn_by_online_security.png', dpi=150, bbox_inches='tight') \n",
    "plt.show()\n"
   ]
  },
  {
   "cell_type": "code",
   "execution_count": null,
   "id": "41ee8ce6",
   "metadata": {},
   "outputs": [],
   "source": [
    "# Online backup and churn \n",
    "OnlineBackup_stats = group_churn(data, 'onlinebackup') \n",
    "print(OnlineBackup_stats[['group_churn','population_share','population_churn_share']]) \n",
    "# Bar Plot \n",
    "ax = OnlineBackup_stats['group_churn'].plot(kind='bar') \n",
    "ax.set_ylabel('In-Group Churn Rate') \n",
    "ax.set_title('Churn by Online Backup') \n",
    "plt.xticks(rotation=0) \n",
    "# Saving figure \n",
    "#plt.savefig(visuals_path / 'churn_by_online_backup.png', dpi=150, bbox_inches='tight') \n",
    "plt.show()\n"
   ]
  },
  {
   "cell_type": "code",
   "execution_count": null,
   "id": "765504e0",
   "metadata": {},
   "outputs": [],
   "source": [
    "# Device protection and churn \n",
    "DeviceProtection_stats = group_churn(data, 'deviceprotection') \n",
    "print(DeviceProtection_stats[['group_churn','population_share','population_churn_share']]) \n",
    "# Bar Plot \n",
    "ax = DeviceProtection_stats['group_churn'].plot(kind='bar') \n",
    "ax.set_ylabel('In-Group Churn Rate') \n",
    "ax.set_title('Churn by Device Projection') \n",
    "plt.xticks(rotation=0) \n",
    "# Saving figure \n",
    "#plt.savefig(visuals_path / 'churn_by_device_protection.png', dpi=150, bbox_inches='tight') \n",
    "plt.show()\n"
   ]
  },
  {
   "cell_type": "code",
   "execution_count": null,
   "id": "a010f234",
   "metadata": {},
   "outputs": [],
   "source": [
    "# Tech support and churn \n",
    "TechSupport_stats = group_churn(data, 'techsupport') \n",
    "print(TechSupport_stats[['group_churn','population_share','population_churn_share']]) \n",
    "# Bar Plot \n",
    "ax = TechSupport_stats['group_churn'].plot(kind='bar') \n",
    "ax.set_ylabel('In-Group Churn Rate') \n",
    "ax.set_title('Churn by Tech Support') \n",
    "plt.xticks(rotation=0) \n",
    "# Saving figure \n",
    "#plt.savefig(visuals_path / 'churn_by_tech_support.png', dpi=150, bbox_inches='tight') \n",
    "plt.show()\n"
   ]
  },
  {
   "cell_type": "code",
   "execution_count": null,
   "id": "f86a4cad",
   "metadata": {},
   "outputs": [],
   "source": [
    "# Streaming TV and churn \n",
    "StreamingTV_stats = group_churn(data, 'streamingtv') \n",
    "print(StreamingTV_stats[['group_churn','population_share','population_churn_share']]) \n",
    "# Bar Plot \n",
    "ax = StreamingTV_stats['group_churn'].plot(kind='bar') \n",
    "ax.set_ylabel('In-Group Churn Rate') \n",
    "ax.set_title('Churn by Streaming TV') \n",
    "plt.xticks(rotation=0) \n",
    "# Saving figure \n",
    "#plt.savefig(visuals_path / 'churn_by_streaming_tv.png', dpi=150, bbox_inches='tight') \n",
    "plt.show()\n"
   ]
  },
  {
   "cell_type": "code",
   "execution_count": null,
   "id": "4e474121",
   "metadata": {},
   "outputs": [],
   "source": [
    "# Streaming movies and churn \n",
    "StreamingMovies_stats = group_churn(data, 'streamingmovies') \n",
    "print(StreamingMovies_stats[['group_churn','population_share','population_churn_share']]) \n",
    "# Bar Plot \n",
    "ax = StreamingMovies_stats['group_churn'].plot(kind='bar') \n",
    "ax.set_ylabel('In-Group Churn Rate') \n",
    "ax.set_title('Churn by Streaming Movies') \n",
    "plt.xticks(rotation=0) \n",
    "# Saving figure \n",
    "#plt.savefig(visuals_path / 'churn_by_streaming_movies.png', dpi=150, bbox_inches='tight') \n",
    "plt.show()\n"
   ]
  },
  {
   "cell_type": "code",
   "execution_count": null,
   "id": "951e345f",
   "metadata": {},
   "outputs": [],
   "source": [
    "# Paperless billing and churn \n",
    "PaperlessBilling_stats = group_churn(data, 'paperlessbilling') \n",
    "print(PaperlessBilling_stats[['group_churn','population_share','population_churn_share']]) \n",
    "# Bar Plot \n",
    "ax = PaperlessBilling_stats['group_churn'].plot(kind='bar') \n",
    "ax.set_ylabel('In-Group Churn Rate') \n",
    "ax.set_title('Churn by Paperless Billing') \n",
    "plt.xticks(rotation=0) \n",
    "# Saving figure \n",
    "#plt.savefig(visuals_path / 'churn_by_paperless_billing.png', dpi=150, bbox_inches='tight') \n",
    "plt.show()\n"
   ]
  },
  {
   "cell_type": "code",
   "execution_count": null,
   "id": "1ebc7354",
   "metadata": {},
   "outputs": [],
   "source": [
    "# Payment method and churn \n",
    "PaymentMethod_stats = group_churn(data, 'paymentmethod') \n",
    "print(PaymentMethod_stats[['group_churn','population_share','population_churn_share']]) \n",
    "# Bar Plot \n",
    "ax = PaymentMethod_stats['group_churn'].plot(kind='bar') \n",
    "ax.set_ylabel('In-Group Churn Rate') \n",
    "ax.set_title('Churn by Payment Method') \n",
    "plt.xticks(rotation=0) \n",
    "# Saving figure \n",
    "#plt.savefig(visuals_path / 'churn_by_payment_method.png', dpi=150, bbox_inches='tight') \n",
    "plt.show()\n"
   ]
  },
  {
   "cell_type": "code",
   "execution_count": null,
   "id": "df42764d",
   "metadata": {},
   "outputs": [],
   "source": [
    "# Plotting Histplot and KDE for numerical columns (tenure, MonthlyCharges, TotalCharges) \n",
    "numeric_columns = ['tenure','monthlycharges','totalcharges'] \n",
    "for col in numeric_columns: \n",
    "    sns.histplot(data[data['churn'] == \"Yes\"][col], color='red', kde=True) \n",
    "    sns.histplot(data[data['churn'] == \"No\"][col], color='green', kde=True) \n",
    "    plt.title(f\"{col} + Churn (Histplot/KDE)\")\n",
    "    #plt.savefig(visuals_path / f'histplot_kde_{col}_by_churn.png', dpi=150, bbox_inches='tight')  \n",
    "    plt.show()\n"
   ]
  },
  {
   "cell_type": "code",
   "execution_count": null,
   "id": "6685b978",
   "metadata": {},
   "outputs": [],
   "source": [
    "# Plotting boxplots for numerical columns (tenure, MonthlyCharges, TotalCharges) \n",
    "numeric_columns = ['tenure','monthlycharges','totalcharges'] \n",
    "for col in numeric_columns: \n",
    "    plt.figure(figsize=(9,4)) \n",
    "    sns.boxplot(x='churn', y=col, data=data) \n",
    "    plt.title(f'{col} by Churn') \n",
    "    #plt.savefig(visuals_path / f'boxplot_{col}_by_churn.png', dpi=150, bbox_inches='tight') \n",
    "    plt.show() \n"
   ]
  },
  {
   "cell_type": "code",
   "execution_count": null,
   "id": "bc21f1ae",
   "metadata": {},
   "outputs": [],
   "source": [
    "# Plotting violin plots for numerical columns (tenure, MonthlyCharges, TotalCharges) \n",
    "numeric_columns = ['tenure','monthlycharges','totalcharges'] \n",
    "for col in numeric_columns: \n",
    "    plt.figure(figsize=(9,4)) \n",
    "    sns.violinplot(x='churn', y=col, data=data, inner='quartile') \n",
    "    plt.title(f'{col} distribution by Churn') \n",
    "    #plt.savefig(visuals_path / f'violinplot_{col}_by_churn.png', dpi=150, bbox_inches='tight') \n",
    "    plt.show() \n"
   ]
  },
  {
   "cell_type": "code",
   "execution_count": null,
   "id": "c59bd983",
   "metadata": {},
   "outputs": [],
   "source": [
    "# Encoding categorical variables for correlation analysis \n",
    "# Using target encoding to show mean churn rate (instead of label encoding) \n",
    "corr_df = data.copy() \n",
    "# Function to encode categorical variables (except customerID) \n",
    "def target_encoding(data, target_column, exclude_columns=None): \n",
    "    if exclude_columns is None: \n",
    "        exclude_columns = [] \n",
    "\n",
    "    encoded_df = data.copy() \n",
    "    # Encoding target variable (Churn) \n",
    "    if encoded_df[target_column].dtype == 'object': \n",
    "        unique_values = encoded_df[target_column].unique() \n",
    "        if len(unique_values) == 2: \n",
    "            mapping = {unique_values[0]: 0, unique_values[1]: 1} \n",
    "            encoded_df[target_column] = encoded_df[target_column].map(mapping) \n",
    "\n",
    "    # Encoding categorical variables (except customerID) \n",
    "    for col in encoded_df.select_dtypes(include='object').columns: \n",
    "        if col not in exclude_columns: \n",
    "            means = encoded_df.groupby(col)[target_column].mean() \n",
    "            encoded_df[col] = encoded_df[col].map(means) \n",
    "\n",
    "    return encoded_df \n",
    "\n",
    "\n",
    "encoded_df = target_encoding(corr_df, target_column='churn', exclude_columns=['customerid']) \n",
    "# Dropping customerID column from encoded_df \n",
    "encoded_df = encoded_df.drop(columns=['customerid']) \n",
    "print(encoded_df.info()) \n"
   ]
  },
  {
   "cell_type": "code",
   "execution_count": null,
   "id": "c3f3459c",
   "metadata": {},
   "outputs": [],
   "source": [
    "# Correlation Matrix (by Churn) \n",
    "encoded_corr = encoded_df.corr()['churn'].sort_values(ascending=False) \n",
    "encoded_corr \n"
   ]
  },
  {
   "cell_type": "code",
   "execution_count": null,
   "id": "1249c3c9",
   "metadata": {},
   "outputs": [],
   "source": [
    "# Plotting heatmap of correlation matrix \n",
    "plt.figure(figsize=(6, 10)) \n",
    "sns.heatmap(encoded_corr.to_frame(), annot=True, fmt=\".2f\", cmap='coolwarm', center=0) \n",
    "plt.title(\"Correlation Heatmap\") \n",
    "#plt.savefig(visuals_path / 'target_encoded_corr_matrix_target_grouping.png', dpi=150, bbox_inches='tight')\n",
    "plt.show() \n"
   ]
  },
  {
   "cell_type": "code",
   "execution_count": null,
   "id": "3912f230",
   "metadata": {},
   "outputs": [],
   "source": [
    "# Plotting full correlation matrix \n",
    "full_corr = encoded_df.corr() \n",
    "# Plotting heatmap of correlation matrix \n",
    "plt.figure(figsize=(12, 10)) \n",
    "sns.heatmap(full_corr, annot=True, fmt=\".2f\", cmap='coolwarm', center=0) \n",
    "plt.title(\"Correlation Heatmap\") \n",
    "#plt.savefig(visuals_path / 'target_encoded_full_corr_matrix.png', dpi=150, bbox_inches='tight')\n",
    "plt.show() \n"
   ]
  },
  {
   "cell_type": "code",
   "execution_count": null,
   "id": "946fd343",
   "metadata": {},
   "outputs": [],
   "source": [
    "# Encoding using different method \n",
    "corr_data = data.copy() \n",
    "# Mapping binary Yes/No (and some other categorical values) to numeric \n",
    "binary_mapping = {'Yes':1, 'No':0, 'No phone service':0, 'No internet service':0} \n",
    "columns_to_map = ['seniorcitizen','partner','dependents','phoneservice','multiplelines','onlinesecurity','onlinebackup',\n",
    "                  'deviceprotection','techsupport','streamingtv','streamingmovies','paperlessbilling']\n",
    "\n",
    "for c in columns_to_map: \n",
    "    if c in corr_data.columns: \n",
    "        corr_data[c] = corr_data[c].map(binary_mapping).fillna(corr_data[c]) \n",
    "\n",
    "# Mapping 'Churn' \n",
    "corr_data['churn'] = corr_data['churn'].map({'Yes':1, 'No':0}) \n",
    "\n",
    "# Encoding other categorical strings ordinally \n",
    "ordinal_mapping = {\n",
    "    'internetservice': {'No':0, 'DSL':1, 'Fiber optic':2}, \n",
    "    'contract': {'Month-to-month':0, 'One year':1, 'Two year':2}, \n",
    "    'paymentmethod': {'Electronic check':0, 'Mailed check':1, 'Bank transfer (automatic)':2, 'Credit card (automatic)':3}\n",
    "}\n",
    "\n",
    "for c, m in ordinal_mapping.items(): \n",
    "    if c in corr_data.columns: \n",
    "        corr_data[c] = corr_data[c].map(m) \n"
   ]
  },
  {
   "cell_type": "code",
   "execution_count": null,
   "id": "134726de",
   "metadata": {},
   "outputs": [],
   "source": [
    "corr_matrix = corr_data.select_dtypes(include=[np.number]).corr() \n",
    "corr_matrix \n"
   ]
  },
  {
   "cell_type": "code",
   "execution_count": null,
   "id": "46b30932",
   "metadata": {},
   "outputs": [],
   "source": [
    "# Plotting correlation heatmap \n",
    "plt.figure(figsize=(12, 10)) \n",
    "sns.heatmap(corr_matrix, cmap='RdBu_r', center=0, annot=True, fmt=\".2f\") \n",
    "plt.title('Full Correlation Matrix (numeric-encoded)') \n",
    "#plt.savefig(visuals_path / 'numeric_encoded_full_corr_matrix.png', dpi=150, bbox_inches='tight')\n",
    "plt.show() \n"
   ]
  },
  {
   "cell_type": "code",
   "execution_count": null,
   "id": "5d8d54f3",
   "metadata": {},
   "outputs": [],
   "source": [
    "# Plotting interaction (tenure vs MonthlyCharges) colored by Churn \n",
    "plt.figure(figsize=(9,6)) \n",
    "# Using alpha so dense regions are shown \n",
    "sns.scatterplot(x='tenure', y='monthlycharges', hue='churn', data=data, alpha=0.6) \n",
    "plt.title(\"Tenure vs MonthlyCharges colored by Churn\") \n",
    "#plt.savefig(visuals_path / 'tenure_vs_monthlycharges_churn.png', dpi=150, bbox_inches='tight')\n",
    "plt.show()\n"
   ]
  }
 ],
 "metadata": {
  "kernelspec": {
   "display_name": "Python 3",
   "language": "python",
   "name": "python3"
  },
  "language_info": {
   "codemirror_mode": {
    "name": "ipython",
    "version": 3
   },
   "file_extension": ".py",
   "mimetype": "text/x-python",
   "name": "python",
   "nbconvert_exporter": "python",
   "pygments_lexer": "ipython3",
   "version": "3.12.1"
  }
 },
 "nbformat": 4,
 "nbformat_minor": 5
}
