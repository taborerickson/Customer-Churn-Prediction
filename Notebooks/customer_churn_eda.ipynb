{
 "cells": [
  {
   "cell_type": "markdown",
   "id": "c9bcffab",
   "metadata": {},
   "source": [
    "<center> \n",
    "\n",
    "# Customer Churn EDA <br> \n",
    "\n",
    "</center>"
   ]
  },
  {
   "cell_type": "code",
   "execution_count": 1,
   "id": "249fbdc9",
   "metadata": {},
   "outputs": [],
   "source": [
    "# Installing dependencies via requirements.txt \n",
    "#%pip install -r ../requirements.txt \n"
   ]
  },
  {
   "cell_type": "code",
   "execution_count": 30,
   "id": "8fb6119c",
   "metadata": {},
   "outputs": [],
   "source": [
    "# Importing libraries\n",
    "import warnings \n",
    "warnings.filterwarnings('ignore') \n",
    "\n",
    "import sys \n",
    "import pandas as pd \n",
    "import numpy as np \n",
    "import matplotlib.pyplot as plt \n",
    "import seaborn as sns \n",
    "from pathlib import Path \n",
    "\n",
    "# Getting the project root \n",
    "project_root = Path().resolve().parent \n",
    "sys.path.append(str(project_root)) \n",
    "\n",
    "# src/utils.py \n",
    "from src.utils import data_path, visuals_path, save_data, group_churn \n",
    "from src.feature_engineering import clean_column_names \n",
    "\n"
   ]
  },
  {
   "cell_type": "code",
   "execution_count": 6,
   "metadata": {},
   "outputs": [],
   "source": [
    "# Setting random_state for reproducibility \n",
    "random_state = 42 \n",
    "np.random.seed(random_state)\n"
   ]
  },
  {
   "cell_type": "code",
   "execution_count": 7,
   "id": "67fbecf7",
   "metadata": {},
   "outputs": [],
   "source": [
    "# Plotting settings \n",
    "sns.set_style('whitegrid') \n",
    "plt.rcParams['figure.figsize'] = (10,6) \n"
   ]
  },
  {
   "cell_type": "code",
   "execution_count": 8,
   "id": "57fa04ae",
   "metadata": {},
   "outputs": [
    {
     "name": "stdout",
     "output_type": "stream",
     "text": [
      "\n",
      "Data Info: \n",
      "<class 'pandas.core.frame.DataFrame'>\n",
      "RangeIndex: 7043 entries, 0 to 7042\n",
      "Data columns (total 21 columns):\n",
      " #   Column            Non-Null Count  Dtype  \n",
      "---  ------            --------------  -----  \n",
      " 0   customerID        7043 non-null   object \n",
      " 1   gender            7043 non-null   object \n",
      " 2   SeniorCitizen     7043 non-null   int64  \n",
      " 3   Partner           7043 non-null   object \n",
      " 4   Dependents        7043 non-null   object \n",
      " 5   tenure            7043 non-null   int64  \n",
      " 6   PhoneService      7043 non-null   object \n",
      " 7   MultipleLines     7043 non-null   object \n",
      " 8   InternetService   7043 non-null   object \n",
      " 9   OnlineSecurity    7043 non-null   object \n",
      " 10  OnlineBackup      7043 non-null   object \n",
      " 11  DeviceProtection  7043 non-null   object \n",
      " 12  TechSupport       7043 non-null   object \n",
      " 13  StreamingTV       7043 non-null   object \n",
      " 14  StreamingMovies   7043 non-null   object \n",
      " 15  Contract          7043 non-null   object \n",
      " 16  PaperlessBilling  7043 non-null   object \n",
      " 17  PaymentMethod     7043 non-null   object \n",
      " 18  MonthlyCharges    7043 non-null   float64\n",
      " 19  TotalCharges      7043 non-null   object \n",
      " 20  Churn             7043 non-null   object \n",
      "dtypes: float64(1), int64(2), object(18)\n",
      "memory usage: 1.1+ MB\n",
      "None\n"
     ]
    }
   ],
   "source": [
    "# Loading data \n",
    "telco_data_path = data_path / \"telco_churn_data.csv\" \n",
    "\n",
    "telco_data = pd.read_csv(telco_data_path) \n",
    "telco_data.head() \n",
    "print(\"\\nData Info: \") \n",
    "print(telco_data.info()) \n"
   ]
  },
  {
   "cell_type": "code",
   "execution_count": 17,
   "id": "13bb0f1d",
   "metadata": {},
   "outputs": [
    {
     "name": "stdout",
     "output_type": "stream",
     "text": [
      "\n",
      "Missing values: \n",
      "customerID          0\n",
      "gender              0\n",
      "SeniorCitizen       0\n",
      "Partner             0\n",
      "Dependents          0\n",
      "tenure              0\n",
      "PhoneService        0\n",
      "MultipleLines       0\n",
      "InternetService     0\n",
      "OnlineSecurity      0\n",
      "OnlineBackup        0\n",
      "DeviceProtection    0\n",
      "TechSupport         0\n",
      "StreamingTV         0\n",
      "StreamingMovies     0\n",
      "Contract            0\n",
      "PaperlessBilling    0\n",
      "PaymentMethod       0\n",
      "MonthlyCharges      0\n",
      "TotalCharges        0\n",
      "Churn               0\n",
      "dtype: int64\n",
      "\n",
      "All unique customerID -->  True\n"
     ]
    }
   ],
   "source": [
    "data = telco_data.copy() \n",
    "\n",
    "# Data checks \n",
    "print(\"\\nMissing values: \") \n",
    "print(data.isna().sum()) \n",
    "\n",
    "# Checking if there are duplicate customerID values \n",
    "print(\"\\nAll unique customerID --> \", data['customerID'].nunique() == len(data)) \n"
   ]
  },
  {
   "cell_type": "code",
   "execution_count": 18,
   "metadata": {},
   "outputs": [
    {
     "name": "stdout",
     "output_type": "stream",
     "text": [
      "\n",
      "TotalCharges NA count (After numeric conversion):  11\n",
      "\n",
      "Rows with tenure == 0 & totalcharges == NaN :  11\n"
     ]
    }
   ],
   "source": [
    "# Cleaning column names \n",
    "data = clean_column_names(data) \n",
    "# Converting TotalCharges to numeric \n",
    "if data['totalcharges'].dtype == 'object': \n",
    "    data['totalcharges'] = pd.to_numeric(data['totalcharges'], errors='coerce') \n",
    "    print(\"\\nTotalCharges NA count (After numeric conversion): \", data['totalcharges'].isna().sum())\n",
    "\n",
    "# Checking if any rows have tenure == 0 & totalcharges == NaN \n",
    "# Possible for new customers \n",
    "new_cust = (data['tenure'] == 0) & (data['totalcharges'].isna()) \n",
    "print(\"\\nRows with tenure == 0 & totalcharges == NaN : \", new_cust.sum()) \n"
   ]
  },
  {
   "cell_type": "code",
   "execution_count": 20,
   "id": "ae1a7581",
   "metadata": {},
   "outputs": [
    {
     "name": "stdout",
     "output_type": "stream",
     "text": [
      "Remaining NaN TotalCharges values after fix:  0\n"
     ]
    }
   ],
   "source": [
    "# Changing TotalCharges to 0 if tenure==0 (Assumed it is a new customer) \n",
    "# If any TotalCharges==NaN remain these will be handled later \n",
    "data.loc[(data['tenure']==0) & (data['totalcharges'].isna()), 'totalcharges'] = 0.0 \n",
    "print(\"Remaining NaN TotalCharges values after fix: \", data['totalcharges'].isna().sum()) \n"
   ]
  },
  {
   "cell_type": "code",
   "execution_count": 23,
   "id": "9fe9064f",
   "metadata": {},
   "outputs": [
    {
     "name": "stdout",
     "output_type": "stream",
     "text": [
      "0    No\n",
      "1    No\n",
      "2    No\n",
      "3    No\n",
      "4    No\n",
      "Name: seniorcitizen, dtype: object\n"
     ]
    }
   ],
   "source": [
    "# Encoding the SeniorCitizen column to match the other columns (converting 0/1 to labels) \n",
    "data['seniorcitizen'] = data['seniorcitizen'].map({0:'No', 1:'Yes'}) \n",
    "print(data['seniorcitizen'].head())\n"
   ]
  },
  {
   "cell_type": "code",
   "execution_count": 11,
   "id": "eabb5443",
   "metadata": {},
   "outputs": [],
   "source": [
    "# Saving cleaned data to Data/ folder \n",
    "#save_data(data, \"cleaned_raw_data\") \n"
   ]
  },
  {
   "cell_type": "markdown",
   "id": "6df706bc",
   "metadata": {},
   "source": [
    "<center> \n",
    "\n",
    "### Exploratory Data Analysis (EDA) <br> \n",
    "Looking at group churn rates, population comparisons, visualizations, and interpretations \n",
    "\n",
    "</center>"
   ]
  },
  {
   "cell_type": "code",
   "execution_count": 34,
   "metadata": {},
   "outputs": [
    {
     "name": "stdout",
     "output_type": "stream",
     "text": [
      "Baseline churn:\n",
      "churn\n",
      "No     0.73463\n",
      "Yes    0.26537\n",
      "Name: proportion, dtype: float64\n"
     ]
    }
   ],
   "source": [
    "# Finding baseline churn rate (Total churn rate) \n",
    "print(\"Baseline churn:\") \n",
    "print(data['churn'].value_counts(normalize=True)) \n"
   ]
  },
  {
   "cell_type": "markdown",
   "id": "f164605f",
   "metadata": {},
   "source": [
    "<center> \n",
    "\n",
    "**Baseline Churn Rate: 26.54%** \n",
    "\n",
    "</center> "
   ]
  },
  {
   "cell_type": "code",
   "execution_count": 35,
   "id": "976ef9d9",
   "metadata": {},
   "outputs": [
    {
     "data": {
      "image/png": "[encoded data removed]",
      "text/plain": [
       "<Figure size 1000x600 with 1 Axes>"
      ]
     },
     "metadata": {},
     "output_type": "display_data"
    }
   ],
   "source": [
    "# Churn distribution \n",
    "ax = sns.countplot(x='churn', data=data) \n",
    "ax.set_title(\"Churn Distribution (count)\") \n",
    "#plt.savefig(visuals_path / 'churn_distribution.png', dpi=150, bbox_inches='tight') \n",
    "plt.show() \n"
   ]
  },
  {
   "cell_type": "code",
   "execution_count": 36,
   "id": "402d80fc",
   "metadata": {},
   "outputs": [
    {
     "name": "stdout",
     "output_type": "stream",
     "text": [
      "Senior Citizen cross-tabulation: \n"
     ]
    },
    {
     "data": {
      "text/html": [
       "<div>\n",
       "<style scoped>\n",
       "    .dataframe tbody tr th:only-of-type {\n",
       "        vertical-align: middle;\n",
       "    }\n",
       "\n",
       "    .dataframe tbody tr th {\n",
       "        vertical-align: top;\n",
       "    }\n",
       "\n",
       "    .dataframe thead th {\n",
       "        text-align: right;\n",
       "    }\n",
       "</style>\n",
       "<table border=\"1\" class=\"dataframe\">\n",
       "  <thead>\n",
       "    <tr style=\"text-align: right;\">\n",
       "      <th>churn</th>\n",
       "      <th>churn_no_pct</th>\n",
       "      <th>churn_yes_pct</th>\n",
       "      <th>All</th>\n",
       "    </tr>\n",
       "    <tr>\n",
       "      <th>seniorcitizen</th>\n",
       "      <th></th>\n",
       "      <th></th>\n",
       "      <th></th>\n",
       "    </tr>\n",
       "  </thead>\n",
       "  <tbody>\n",
       "    <tr>\n",
       "      <th>No</th>\n",
       "      <td>0.640068</td>\n",
       "      <td>0.197785</td>\n",
       "      <td>0.837853</td>\n",
       "    </tr>\n",
       "    <tr>\n",
       "      <th>Yes</th>\n",
       "      <td>0.094562</td>\n",
       "      <td>0.067585</td>\n",
       "      <td>0.162147</td>\n",
       "    </tr>\n",
       "    <tr>\n",
       "      <th>All</th>\n",
       "      <td>0.734630</td>\n",
       "      <td>0.265370</td>\n",
       "      <td>1.000000</td>\n",
       "    </tr>\n",
       "  </tbody>\n",
       "</table>\n",
       "</div>"
      ],
      "text/plain": [
       "churn          churn_no_pct  churn_yes_pct       All\n",
       "seniorcitizen                                       \n",
       "No                 0.640068       0.197785  0.837853\n",
       "Yes                0.094562       0.067585  0.162147\n",
       "All                0.734630       0.265370  1.000000"
      ]
     },
     "execution_count": 36,
     "metadata": {},
     "output_type": "execute_result"
    }
   ],
   "source": [
    "# Calculating cross-tabs for seniorcitizen \n",
    "# Adding calculations to separate Senior/Non-Senior \n",
    "senior_crosstab = pd.crosstab(data['seniorcitizen'], data['churn'], normalize=True, margins=True) \n",
    "senior_crosstab = senior_crosstab.rename(columns={'No':'churn_no_pct', 'Yes':'churn_yes_pct'})\n",
    "print(\"Senior Citizen cross-tabulation: \") \n",
    "senior_crosstab"
   ]
  },
  {
   "cell_type": "code",
   "execution_count": 37,
   "id": "c50df981",
   "metadata": {},
   "outputs": [
    {
     "name": "stdout",
     "output_type": "stream",
     "text": [
      "Senior (in-group) Churn (Yes):  0.06758483600738321\n",
      "\n",
      "Non-Senior (in-group) Churn (Yes):  0.19778503478631265\n"
     ]
    }
   ],
   "source": [
    "# Calculating spearate percentages for senior/non-senior \n",
    "senior_churn = senior_crosstab.loc['Yes','churn_yes_pct'] if 'Yes' in senior_crosstab.index else None \n",
    "non_senior_churn = senior_crosstab.loc['No','churn_yes_pct'] \n",
    "print(\"Senior (in-group) Churn (Yes): \", senior_churn) \n",
    "print(\"\\nNon-Senior (in-group) Churn (Yes): \", non_senior_churn) \n",
    "\n"
   ]
  },
  {
   "cell_type": "markdown",
   "id": "bb21ff6b",
   "metadata": {},
   "source": [
    "**Note:** <br>\n",
    "Senior citizens had a population churn rate of 6.76%, however, looking at in-group rates senior citizens had a much higher churn rate of 41.68% compared to non-senior citizens in-group churn rate of 23.61%.  \n",
    "Despite senior citizens having the higher in-group churn rate, non-senior citizens still had a much higher population churn share (19.78%). "
   ]
  },
  {
   "cell_type": "code",
   "execution_count": 38,
   "id": "08834feb",
   "metadata": {},
   "outputs": [
    {
     "ename": "KeyError",
     "evalue": "'Churn'",
     "output_type": "error",
     "traceback": [
      "\u001b[31m---------------------------------------------------------------------------\u001b[39m",
      "\u001b[31mKeyError\u001b[39m                                  Traceback (most recent call last)",
      "\u001b[36mFile \u001b[39m\u001b[32m~/.local/lib/python3.12/site-packages/pandas/core/indexes/base.py:3812\u001b[39m, in \u001b[36mIndex.get_loc\u001b[39m\u001b[34m(self, key)\u001b[39m\n\u001b[32m   3811\u001b[39m \u001b[38;5;28;01mtry\u001b[39;00m:\n\u001b[32m-> \u001b[39m\u001b[32m3812\u001b[39m     \u001b[38;5;28;01mreturn\u001b[39;00m \u001b[38;5;28;43mself\u001b[39;49m\u001b[43m.\u001b[49m\u001b[43m_engine\u001b[49m\u001b[43m.\u001b[49m\u001b[43mget_loc\u001b[49m\u001b[43m(\u001b[49m\u001b[43mcasted_key\u001b[49m\u001b[43m)\u001b[49m\n\u001b[32m   3813\u001b[39m \u001b[38;5;28;01mexcept\u001b[39;00m \u001b[38;5;167;01mKeyError\u001b[39;00m \u001b[38;5;28;01mas\u001b[39;00m err:\n",
      "\u001b[36mFile \u001b[39m\u001b[32mpandas/_libs/index.pyx:167\u001b[39m, in \u001b[36mpandas._libs.index.IndexEngine.get_loc\u001b[39m\u001b[34m()\u001b[39m\n",
      "\u001b[36mFile \u001b[39m\u001b[32mpandas/_libs/index.pyx:196\u001b[39m, in \u001b[36mpandas._libs.index.IndexEngine.get_loc\u001b[39m\u001b[34m()\u001b[39m\n",
      "\u001b[36mFile \u001b[39m\u001b[32mpandas/_libs/hashtable_class_helper.pxi:7088\u001b[39m, in \u001b[36mpandas._libs.hashtable.PyObjectHashTable.get_item\u001b[39m\u001b[34m()\u001b[39m\n",
      "\u001b[36mFile \u001b[39m\u001b[32mpandas/_libs/hashtable_class_helper.pxi:7096\u001b[39m, in \u001b[36mpandas._libs.hashtable.PyObjectHashTable.get_item\u001b[39m\u001b[34m()\u001b[39m\n",
      "\u001b[31mKeyError\u001b[39m: 'Churn'",
      "\nThe above exception was the direct cause of the following exception:\n",
      "\u001b[31mKeyError\u001b[39m                                  Traceback (most recent call last)",
      "\u001b[36mCell\u001b[39m\u001b[36m \u001b[39m\u001b[32mIn[38]\u001b[39m\u001b[32m, line 2\u001b[39m\n\u001b[32m      1\u001b[39m \u001b[38;5;66;03m# Contract type and churn \u001b[39;00m\n\u001b[32m----> \u001b[39m\u001b[32m2\u001b[39m contract_stats = \u001b[43mgroup_churn\u001b[49m\u001b[43m(\u001b[49m\u001b[43mdata\u001b[49m\u001b[43m,\u001b[49m\u001b[43m \u001b[49m\u001b[33;43m'\u001b[39;49m\u001b[33;43mcontract\u001b[39;49m\u001b[33;43m'\u001b[39;49m\u001b[43m)\u001b[49m \n\u001b[32m      3\u001b[39m \u001b[38;5;28mprint\u001b[39m(contract_stats[[\u001b[33m'\u001b[39m\u001b[33mgroup_churn\u001b[39m\u001b[33m'\u001b[39m,\u001b[33m'\u001b[39m\u001b[33mpopulation_share\u001b[39m\u001b[33m'\u001b[39m,\u001b[33m'\u001b[39m\u001b[33mpopulation_churn_share\u001b[39m\u001b[33m'\u001b[39m]]) \n\u001b[32m      4\u001b[39m \u001b[38;5;66;03m# Bar plot \u001b[39;00m\n",
      "\u001b[36mFile \u001b[39m\u001b[32m/workspaces/Customer-Churn-Prediction/src/utils.py:29\u001b[39m, in \u001b[36mgroup_churn\u001b[39m\u001b[34m(data, group_column, target)\u001b[39m\n\u001b[32m     27\u001b[39m \u001b[38;5;28;01mdef\u001b[39;00m\u001b[38;5;250m \u001b[39m\u001b[34mgroup_churn\u001b[39m(data, group_column, target=\u001b[33m'\u001b[39m\u001b[33mchurn\u001b[39m\u001b[33m'\u001b[39m): \n\u001b[32m     28\u001b[39m     \u001b[38;5;66;03m# In-group churn \u001b[39;00m\n\u001b[32m---> \u001b[39m\u001b[32m29\u001b[39m     cross_tab = pd.crosstab(data[group_column], \u001b[43mdata\u001b[49m\u001b[43m[\u001b[49m\u001b[43mtarget\u001b[49m\u001b[43m]\u001b[49m, normalize=\u001b[33m'\u001b[39m\u001b[33mindex\u001b[39m\u001b[33m'\u001b[39m) \n\u001b[32m     30\u001b[39m     cross_tab = cross_tab.rename(columns={\u001b[33m'\u001b[39m\u001b[33mNo\u001b[39m\u001b[33m'\u001b[39m: \u001b[33m'\u001b[39m\u001b[33mchurn_no_pct\u001b[39m\u001b[33m'\u001b[39m, \u001b[33m'\u001b[39m\u001b[33mYes\u001b[39m\u001b[33m'\u001b[39m: \u001b[33m'\u001b[39m\u001b[33mchurn_yes_pct\u001b[39m\u001b[33m'\u001b[39m}) \n\u001b[32m     31\u001b[39m     \u001b[38;5;66;03m# Population comparison \u001b[39;00m\n",
      "\u001b[36mFile \u001b[39m\u001b[32m~/.local/lib/python3.12/site-packages/pandas/core/frame.py:4107\u001b[39m, in \u001b[36mDataFrame.__getitem__\u001b[39m\u001b[34m(self, key)\u001b[39m\n\u001b[32m   4105\u001b[39m \u001b[38;5;28;01mif\u001b[39;00m \u001b[38;5;28mself\u001b[39m.columns.nlevels > \u001b[32m1\u001b[39m:\n\u001b[32m   4106\u001b[39m     \u001b[38;5;28;01mreturn\u001b[39;00m \u001b[38;5;28mself\u001b[39m._getitem_multilevel(key)\n\u001b[32m-> \u001b[39m\u001b[32m4107\u001b[39m indexer = \u001b[38;5;28;43mself\u001b[39;49m\u001b[43m.\u001b[49m\u001b[43mcolumns\u001b[49m\u001b[43m.\u001b[49m\u001b[43mget_loc\u001b[49m\u001b[43m(\u001b[49m\u001b[43mkey\u001b[49m\u001b[43m)\u001b[49m\n\u001b[32m   4108\u001b[39m \u001b[38;5;28;01mif\u001b[39;00m is_integer(indexer):\n\u001b[32m   4109\u001b[39m     indexer = [indexer]\n",
      "\u001b[36mFile \u001b[39m\u001b[32m~/.local/lib/python3.12/site-packages/pandas/core/indexes/base.py:3819\u001b[39m, in \u001b[36mIndex.get_loc\u001b[39m\u001b[34m(self, key)\u001b[39m\n\u001b[32m   3814\u001b[39m     \u001b[38;5;28;01mif\u001b[39;00m \u001b[38;5;28misinstance\u001b[39m(casted_key, \u001b[38;5;28mslice\u001b[39m) \u001b[38;5;129;01mor\u001b[39;00m (\n\u001b[32m   3815\u001b[39m         \u001b[38;5;28misinstance\u001b[39m(casted_key, abc.Iterable)\n\u001b[32m   3816\u001b[39m         \u001b[38;5;129;01mand\u001b[39;00m \u001b[38;5;28many\u001b[39m(\u001b[38;5;28misinstance\u001b[39m(x, \u001b[38;5;28mslice\u001b[39m) \u001b[38;5;28;01mfor\u001b[39;00m x \u001b[38;5;129;01min\u001b[39;00m casted_key)\n\u001b[32m   3817\u001b[39m     ):\n\u001b[32m   3818\u001b[39m         \u001b[38;5;28;01mraise\u001b[39;00m InvalidIndexError(key)\n\u001b[32m-> \u001b[39m\u001b[32m3819\u001b[39m     \u001b[38;5;28;01mraise\u001b[39;00m \u001b[38;5;167;01mKeyError\u001b[39;00m(key) \u001b[38;5;28;01mfrom\u001b[39;00m\u001b[38;5;250m \u001b[39m\u001b[34;01merr\u001b[39;00m\n\u001b[32m   3820\u001b[39m \u001b[38;5;28;01mexcept\u001b[39;00m \u001b[38;5;167;01mTypeError\u001b[39;00m:\n\u001b[32m   3821\u001b[39m     \u001b[38;5;66;03m# If we have a listlike key, _check_indexing_error will raise\u001b[39;00m\n\u001b[32m   3822\u001b[39m     \u001b[38;5;66;03m#  InvalidIndexError. Otherwise we fall through and re-raise\u001b[39;00m\n\u001b[32m   3823\u001b[39m     \u001b[38;5;66;03m#  the TypeError.\u001b[39;00m\n\u001b[32m   3824\u001b[39m     \u001b[38;5;28mself\u001b[39m._check_indexing_error(key)\n",
      "\u001b[31mKeyError\u001b[39m: 'Churn'"
     ]
    }
   ],
   "source": [
    "# Contract type and churn \n",
    "contract_stats = group_churn(data, 'contract') \n",
    "print(contract_stats[['group_churn','population_share','population_churn_share']]) \n",
    "# Bar plot \n",
    "ax = contract_stats['group_churn'].plot(kind='bar') \n",
    "ax.set_ylabel('In-Group Churn Rate (P(Churn=Yes | Contract))') \n",
    "ax.set_title('Churn by Contract Type (in-group)') \n",
    "plt.xticks(rotation=0) \n",
    "# Saving figure \n",
    "#plt.savefig(visuals_path / 'churn_by_contract.png', dpi=150, bbox_inches='tight') \n",
    "plt.show() \n"
   ]
  },
  {
   "cell_type": "code",
   "execution_count": null,
   "id": "a5080667",
   "metadata": {},
   "outputs": [],
   "source": [
    "# Internet service and churn \n",
    "InternetService_stats = group_churn(data, 'internetservice') \n",
    "print(InternetService_stats[['group_churn','population_share','population_churn_share']]) \n",
    "# Bar plot \n",
    "ax = InternetService_stats['group_churn'].plot(kind='bar') \n",
    "ax.set_ylabel('In-Group Churn Rate') \n",
    "ax.set_title('Churn by Internet Service') \n",
    "plt.xticks(rotation=0) \n",
    "# Saving figure \n",
    "#plt.savefig(visuals_path / 'churn_by_internet_service.png', dpi=150, bbox_inches='tight') \n",
    "plt.show() \n"
   ]
  },
  {
   "cell_type": "code",
   "execution_count": null,
   "id": "6dbc9a0e",
   "metadata": {},
   "outputs": [],
   "source": [
    "# Gender and churn \n",
    "gender_stats = group_churn(data, 'gender') \n",
    "print(gender_stats[['group_churn','population_share','population_churn_share']]) \n",
    "# Bar plot \n",
    "ax = gender_stats['group_churn'].plot(kind='bar') \n",
    "ax.set_ylabel('In-Group Churn Rate') \n",
    "ax.set_title('Churn by Gender Service') \n",
    "plt.xticks(rotation=0) \n",
    "# Saving figure \n",
    "#plt.savefig(visuals_path / 'churn_by_gender.png', dpi=150, bbox_inches='tight') \n",
    "plt.show() \n"
   ]
  },
  {
   "cell_type": "code",
   "execution_count": null,
   "id": "09c21d0d",
   "metadata": {},
   "outputs": [],
   "source": [
    "# Partner and churn \n",
    "partner_stats = group_churn(data, 'partner') \n",
    "print(partner_stats[['group_churn','population_share','population_churn_share']]) \n",
    "# Bar plot \n",
    "ax = partner_stats['group_churn'].plot(kind='bar') \n",
    "ax.set_ylabel('In-Group Churn Rate') \n",
    "ax.set_title('Churn by Partner (has partner - Yes/No)') \n",
    "plt.xticks(rotation=0) \n",
    "# Saving figure \n",
    "#plt.savefig(visuals_path / 'churn_by_partner.png', dpi=150, bbox_inches='tight') \n",
    "plt.show() \n"
   ]
  },
  {
   "cell_type": "code",
   "execution_count": null,
   "id": "b51813a3",
   "metadata": {},
   "outputs": [],
   "source": [
    "# Dependents and churn \n",
    "dependents_stats = group_churn(data, 'dependents') \n",
    "print(dependents_stats[['group_churn','population_share','population_churn_share']]) \n",
    "# Bar Plot \n",
    "ax = dependents_stats['group_churn'].plot(kind='bar') \n",
    "ax.set_ylabel('In-Group Churn Rate') \n",
    "ax.set_title('Churn by Dependents (has dependents)') \n",
    "plt.xticks(rotation=0) \n",
    "# Saving figure \n",
    "#plt.savefig(visuals_path / 'churn_by_dependents.png', dpi=150, bbox_inches='tight') \n",
    "plt.show()\n"
   ]
  },
  {
   "cell_type": "code",
   "execution_count": null,
   "id": "d2096f1f",
   "metadata": {},
   "outputs": [],
   "source": [
    "# Phone service and churn \n",
    "PhoneService_stats = group_churn(data, 'phoneservice') \n",
    "print(PhoneService_stats[['group_churn','population_share','population_churn_share']]) \n",
    "# Bar Plot \n",
    "ax = PhoneService_stats['group_churn'].plot(kind='bar') \n",
    "ax.set_ylabel('In-Group Churn Rate') \n",
    "ax.set_title('Churn by Phone Service') \n",
    "plt.xticks(rotation=0) \n",
    "# Saving figure \n",
    "#plt.savefig(visuals_path / 'churn_by_phone_service.png', dpi=150, bbox_inches='tight') \n",
    "plt.show()\n"
   ]
  },
  {
   "cell_type": "code",
   "execution_count": null,
   "id": "ab6b56e5",
   "metadata": {},
   "outputs": [],
   "source": [
    "# Multiple lines and churn \n",
    "MultipleLines_stats = group_churn(data, 'multiplelines') \n",
    "print(MultipleLines_stats[['group_churn','population_share','population_churn_share']]) \n",
    "# Bar Plot \n",
    "ax = MultipleLines_stats['group_churn'].plot(kind='bar') \n",
    "ax.set_ylabel('In-Group Churn Rate') \n",
    "ax.set_title('Churn by Multiple Lines') \n",
    "plt.xticks(rotation=0) \n",
    "# Saving figure \n",
    "#plt.savefig(visuals_path / 'churn_by_multiple_lines.png', dpi=150, bbox_inches='tight') \n",
    "plt.show()\n"
   ]
  },
  {
   "cell_type": "code",
   "execution_count": null,
   "id": "9a71e100",
   "metadata": {},
   "outputs": [],
   "source": [
    "# Online security and churn \n",
    "OnlineSecurity_stats = group_churn(data, 'onlinesecurity') \n",
    "print(OnlineSecurity_stats[['group_churn','population_share','population_churn_share']]) \n",
    "# Bar Plot \n",
    "ax = OnlineSecurity_stats['group_churn'].plot(kind='bar') \n",
    "ax.set_ylabel('In-Group Churn Rate') \n",
    "ax.set_title('Churn by Online Security') \n",
    "plt.xticks(rotation=0) \n",
    "# Saving figure \n",
    "#plt.savefig(visuals_path / 'churn_by_online_security.png', dpi=150, bbox_inches='tight') \n",
    "plt.show()\n"
   ]
  },
  {
   "cell_type": "code",
   "execution_count": null,
   "id": "41ee8ce6",
   "metadata": {},
   "outputs": [],
   "source": [
    "# Online backup and churn \n",
    "OnlineBackup_stats = group_churn(data, 'onlinebackup') \n",
    "print(OnlineBackup_stats[['group_churn','population_share','population_churn_share']]) \n",
    "# Bar Plot \n",
    "ax = OnlineBackup_stats['group_churn'].plot(kind='bar') \n",
    "ax.set_ylabel('In-Group Churn Rate') \n",
    "ax.set_title('Churn by Online Backup') \n",
    "plt.xticks(rotation=0) \n",
    "# Saving figure \n",
    "#plt.savefig(visuals_path / 'churn_by_online_backup.png', dpi=150, bbox_inches='tight') \n",
    "plt.show()\n"
   ]
  },
  {
   "cell_type": "code",
   "execution_count": null,
   "id": "765504e0",
   "metadata": {},
   "outputs": [],
   "source": [
    "# Device protection and churn \n",
    "DeviceProtection_stats = group_churn(data, 'deviceprotection') \n",
    "print(DeviceProtection_stats[['group_churn','population_share','population_churn_share']]) \n",
    "# Bar Plot \n",
    "ax = DeviceProtection_stats['group_churn'].plot(kind='bar') \n",
    "ax.set_ylabel('In-Group Churn Rate') \n",
    "ax.set_title('Churn by Device Projection') \n",
    "plt.xticks(rotation=0) \n",
    "# Saving figure \n",
    "#plt.savefig(visuals_path / 'churn_by_device_protection.png', dpi=150, bbox_inches='tight') \n",
    "plt.show()\n"
   ]
  },
  {
   "cell_type": "code",
   "execution_count": null,
   "id": "a010f234",
   "metadata": {},
   "outputs": [],
   "source": [
    "# Tech support and churn \n",
    "TechSupport_stats = group_churn(data, 'techsupport') \n",
    "print(TechSupport_stats[['group_churn','population_share','population_churn_share']]) \n",
    "# Bar Plot \n",
    "ax = TechSupport_stats['group_churn'].plot(kind='bar') \n",
    "ax.set_ylabel('In-Group Churn Rate') \n",
    "ax.set_title('Churn by Tech Support') \n",
    "plt.xticks(rotation=0) \n",
    "# Saving figure \n",
    "#plt.savefig(visuals_path / 'churn_by_tech_support.png', dpi=150, bbox_inches='tight') \n",
    "plt.show()\n"
   ]
  },
  {
   "cell_type": "code",
   "execution_count": null,
   "id": "f86a4cad",
   "metadata": {},
   "outputs": [],
   "source": [
    "# Streaming TV and churn \n",
    "StreamingTV_stats = group_churn(data, 'streamingtv') \n",
    "print(StreamingTV_stats[['group_churn','population_share','population_churn_share']]) \n",
    "# Bar Plot \n",
    "ax = StreamingTV_stats['group_churn'].plot(kind='bar') \n",
    "ax.set_ylabel('In-Group Churn Rate') \n",
    "ax.set_title('Churn by Streaming TV') \n",
    "plt.xticks(rotation=0) \n",
    "# Saving figure \n",
    "#plt.savefig(visuals_path / 'churn_by_streaming_tv.png', dpi=150, bbox_inches='tight') \n",
    "plt.show()\n"
   ]
  },
  {
   "cell_type": "code",
   "execution_count": null,
   "id": "4e474121",
   "metadata": {},
   "outputs": [],
   "source": [
    "# Streaming movies and churn \n",
    "StreamingMovies_stats = group_churn(data, 'streamingmovies') \n",
    "print(StreamingMovies_stats[['group_churn','population_share','population_churn_share']]) \n",
    "# Bar Plot \n",
    "ax = StreamingMovies_stats['group_churn'].plot(kind='bar') \n",
    "ax.set_ylabel('In-Group Churn Rate') \n",
    "ax.set_title('Churn by Streaming Movies') \n",
    "plt.xticks(rotation=0) \n",
    "# Saving figure \n",
    "#plt.savefig(visuals_path / 'churn_by_streaming_movies.png', dpi=150, bbox_inches='tight') \n",
    "plt.show()\n"
   ]
  },
  {
   "cell_type": "code",
   "execution_count": null,
   "id": "951e345f",
   "metadata": {},
   "outputs": [],
   "source": [
    "# Paperless billing and churn \n",
    "PaperlessBilling_stats = group_churn(data, 'paperlessbilling') \n",
    "print(PaperlessBilling_stats[['group_churn','population_share','population_churn_share']]) \n",
    "# Bar Plot \n",
    "ax = PaperlessBilling_stats['group_churn'].plot(kind='bar') \n",
    "ax.set_ylabel('In-Group Churn Rate') \n",
    "ax.set_title('Churn by Paperless Billing') \n",
    "plt.xticks(rotation=0) \n",
    "# Saving figure \n",
    "#plt.savefig(visuals_path / 'churn_by_paperless_billing.png', dpi=150, bbox_inches='tight') \n",
    "plt.show()\n"
   ]
  },
  {
   "cell_type": "code",
   "execution_count": null,
   "id": "1ebc7354",
   "metadata": {},
   "outputs": [],
   "source": [
    "# Payment method and churn \n",
    "PaymentMethod_stats = group_churn(data, 'paymentmethod') \n",
    "print(PaymentMethod_stats[['group_churn','population_share','population_churn_share']]) \n",
    "# Bar Plot \n",
    "ax = PaymentMethod_stats['group_churn'].plot(kind='bar') \n",
    "ax.set_ylabel('In-Group Churn Rate') \n",
    "ax.set_title('Churn by Payment Method') \n",
    "plt.xticks(rotation=0) \n",
    "# Saving figure \n",
    "#plt.savefig(visuals_path / 'churn_by_payment_method.png', dpi=150, bbox_inches='tight') \n",
    "plt.show()\n"
   ]
  },
  {
   "cell_type": "code",
   "execution_count": null,
   "id": "df42764d",
   "metadata": {},
   "outputs": [],
   "source": [
    "# Plotting Histplot and KDE for numerical columns (tenure, MonthlyCharges, TotalCharges) \n",
    "numeric_columns = ['tenure','monthlycharges','totalcharges'] \n",
    "for col in numeric_columns: \n",
    "    sns.histplot(data[data['churn'] == \"Yes\"][col], color='red', kde=True) \n",
    "    sns.histplot(data[data['churn'] == \"No\"][col], color='green', kde=True) \n",
    "    plt.title(f\"{col} + Churn (Histplot/KDE)\")\n",
    "    #plt.savefig(visuals_path / f'histplot_kde_{col}_by_churn.png', dpi=150, bbox_inches='tight')  \n",
    "    plt.show()\n"
   ]
  },
  {
   "cell_type": "code",
   "execution_count": null,
   "id": "6685b978",
   "metadata": {},
   "outputs": [],
   "source": [
    "# Plotting boxplots for numerical columns (tenure, MonthlyCharges, TotalCharges) \n",
    "numeric_columns = ['tenure','monthlycharges','totalcharges'] \n",
    "for col in numeric_columns: \n",
    "    plt.figure(figsize=(9,4)) \n",
    "    sns.boxplot(x='churn', y=col, data=data) \n",
    "    plt.title(f'{col} by Churn') \n",
    "    #plt.savefig(visuals_path / f'boxplot_{col}_by_churn.png', dpi=150, bbox_inches='tight') \n",
    "    plt.show() \n"
   ]
  },
  {
   "cell_type": "code",
   "execution_count": null,
   "id": "bc21f1ae",
   "metadata": {},
   "outputs": [],
   "source": [
    "# Plotting violin plots for numerical columns (tenure, MonthlyCharges, TotalCharges) \n",
    "numeric_columns = ['tenure','monthlycharges','totalcharges'] \n",
    "for col in numeric_columns: \n",
    "    plt.figure(figsize=(9,4)) \n",
    "    sns.violinplot(x='churn', y=col, data=data, inner='quartile') \n",
    "    plt.title(f'{col} distribution by Churn') \n",
    "    #plt.savefig(visuals_path / f'violinplot_{col}_by_churn.png', dpi=150, bbox_inches='tight') \n",
    "    plt.show() \n"
   ]
  },
  {
   "cell_type": "code",
   "execution_count": null,
   "id": "c59bd983",
   "metadata": {},
   "outputs": [],
   "source": [
    "# Encoding categorical variables for correlation analysis \n",
    "# Using target encoding to show mean churn rate (instead of label encoding) \n",
    "corr_df = data.copy() \n",
    "# Function to encode categorical variables (except customerID) \n",
    "def target_encoding(data, target_column, exclude_columns=None): \n",
    "    if exclude_columns is None: \n",
    "        exclude_columns = [] \n",
    "\n",
    "    encoded_df = data.copy() \n",
    "    # Encoding target variable (Churn) \n",
    "    if encoded_df[target_column].dtype == 'object': \n",
    "        unique_values = encoded_df[target_column].unique() \n",
    "        if len(unique_values) == 2: \n",
    "            mapping = {unique_values[0]: 0, unique_values[1]: 1} \n",
    "            encoded_df[target_column] = encoded_df[target_column].map(mapping) \n",
    "\n",
    "    # Encoding categorical variables (except customerID) \n",
    "    for col in encoded_df.select_dtypes(include='object').columns: \n",
    "        if col not in exclude_columns: \n",
    "            means = encoded_df.groupby(col)[target_column].mean() \n",
    "            encoded_df[col] = encoded_df[col].map(means) \n",
    "\n",
    "    return encoded_df \n",
    "\n",
    "\n",
    "encoded_df = target_encoding(corr_df, target_column='churn', exclude_columns=['customerid']) \n",
    "# Dropping customerID column from encoded_df \n",
    "encoded_df = encoded_df.drop(columns=['customerid']) \n",
    "print(encoded_df.info()) \n"
   ]
  },
  {
   "cell_type": "code",
   "execution_count": null,
   "id": "c3f3459c",
   "metadata": {},
   "outputs": [],
   "source": [
    "# Correlation Matrix (by Churn) \n",
    "encoded_corr = encoded_df.corr()['churn'].sort_values(ascending=False) \n",
    "encoded_corr \n"
   ]
  },
  {
   "cell_type": "code",
   "execution_count": null,
   "id": "1249c3c9",
   "metadata": {},
   "outputs": [],
   "source": [
    "# Plotting heatmap of correlation matrix \n",
    "plt.figure(figsize=(6, 10)) \n",
    "sns.heatmap(encoded_corr.to_frame(), annot=True, fmt=\".2f\", cmap='coolwarm', center=0) \n",
    "plt.title(\"Correlation Heatmap\") \n",
    "#plt.savefig(visuals_path / 'target_encoded_corr_matrix_target_grouping.png', dpi=150, bbox_inches='tight')\n",
    "plt.show() \n"
   ]
  },
  {
   "cell_type": "code",
   "execution_count": null,
   "id": "3912f230",
   "metadata": {},
   "outputs": [],
   "source": [
    "# Plotting full correlation matrix \n",
    "full_corr = encoded_df.corr() \n",
    "# Plotting heatmap of correlation matrix \n",
    "plt.figure(figsize=(12, 10)) \n",
    "sns.heatmap(full_corr, annot=True, fmt=\".2f\", cmap='coolwarm', center=0) \n",
    "plt.title(\"Correlation Heatmap\") \n",
    "#plt.savefig(visuals_path / 'target_encoded_full_corr_matrix.png', dpi=150, bbox_inches='tight')\n",
    "plt.show() \n"
   ]
  },
  {
   "cell_type": "code",
   "execution_count": null,
   "id": "946fd343",
   "metadata": {},
   "outputs": [],
   "source": [
    "# Encoding using different method \n",
    "corr_data = data.copy() \n",
    "# Mapping binary Yes/No (and some other categorical values) to numeric \n",
    "binary_mapping = {'Yes':1, 'No':0, 'No phone service':0, 'No internet service':0} \n",
    "columns_to_map = ['seniorcitizen','partner','dependents','phoneservice','multiplelines','onlinesecurity','onlinebackup',\n",
    "                  'deviceprotection','techsupport','streamingtv','streamingmovies','paperlessbilling']\n",
    "\n",
    "for c in columns_to_map: \n",
    "    if c in corr_data.columns: \n",
    "        corr_data[c] = corr_data[c].map(binary_mapping).fillna(corr_data[c]) \n",
    "\n",
    "# Mapping 'Churn' \n",
    "corr_data['churn'] = corr_data['churn'].map({'Yes':1, 'No':0}) \n",
    "\n",
    "# Encoding other categorical strings ordinally \n",
    "ordinal_mapping = {\n",
    "    'internetservice': {'No':0, 'DSL':1, 'Fiber optic':2}, \n",
    "    'contract': {'Month-to-month':0, 'One year':1, 'Two year':2}, \n",
    "    'paymentmethod': {'Electronic check':0, 'Mailed check':1, 'Bank transfer (automatic)':2, 'Credit card (automatic)':3}\n",
    "}\n",
    "\n",
    "for c, m in ordinal_mapping.items(): \n",
    "    if c in corr_data.columns: \n",
    "        corr_data[c] = corr_data[c].map(m) \n"
   ]
  },
  {
   "cell_type": "code",
   "execution_count": null,
   "id": "134726de",
   "metadata": {},
   "outputs": [],
   "source": [
    "corr_matrix = corr_data.select_dtypes(include=[np.number]).corr() \n",
    "corr_matrix \n"
   ]
  },
  {
   "cell_type": "code",
   "execution_count": null,
   "id": "46b30932",
   "metadata": {},
   "outputs": [],
   "source": [
    "# Plotting correlation heatmap \n",
    "plt.figure(figsize=(12, 10)) \n",
    "sns.heatmap(corr_matrix, cmap='RdBu_r', center=0, annot=True, fmt=\".2f\") \n",
    "plt.title('Full Correlation Matrix (numeric-encoded)') \n",
    "#plt.savefig(visuals_path / 'numeric_encoded_full_corr_matrix.png', dpi=150, bbox_inches='tight')\n",
    "plt.show() \n"
   ]
  },
  {
   "cell_type": "code",
   "execution_count": null,
   "id": "5d8d54f3",
   "metadata": {},
   "outputs": [],
   "source": [
    "# Plotting interaction (tenure vs MonthlyCharges) colored by Churn \n",
    "plt.figure(figsize=(9,6)) \n",
    "# Using alpha so dense regions are shown \n",
    "sns.scatterplot(x='tenure', y='monthlycharges', hue='churn', data=data, alpha=0.6) \n",
    "plt.title(\"Tenure vs MonthlyCharges colored by Churn\") \n",
    "#plt.savefig(visuals_path / 'tenure_vs_monthlycharges_churn.png', dpi=150, bbox_inches='tight')\n",
    "plt.show()\n"
   ]
  }
 ],
 "metadata": {
  "kernelspec": {
   "display_name": "Python 3",
   "language": "python",
   "name": "python3"
  },
  "language_info": {
   "codemirror_mode": {
    "name": "ipython",
    "version": 3
   },
   "file_extension": ".py",
   "mimetype": "text/x-python",
   "name": "python",
   "nbconvert_exporter": "python",
   "pygments_lexer": "ipython3",
   "version": "3.12.1"
  }
 },
 "nbformat": 4,
 "nbformat_minor": 5
}
