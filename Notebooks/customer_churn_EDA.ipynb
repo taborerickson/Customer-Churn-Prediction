{
 "cells": [
  {
   "cell_type": "markdown",
   "id": "f93ea813",
   "metadata": {},
   "source": [
    "# Customer Churn EDA"
   ]
  },
  {
   "cell_type": "code",
   "execution_count": null,
   "id": "7a222253",
   "metadata": {},
   "outputs": [],
   "source": []
  }
 ],
 "metadata": {
  "language_info": {
   "name": "python"
  }
 },
 "nbformat": 4,
 "nbformat_minor": 5
}
