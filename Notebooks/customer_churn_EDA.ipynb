{
 "cells": [
  {
   "cell_type": "markdown",
   "id": "f93ea813",
   "metadata": {},
   "source": [
    "## Telco Customer Churn \n",
    "\n",
    "### Exploratory Data Analysis (EDA) "
   ]
  },
  {
   "cell_type": "markdown",
   "id": "e279e0fe",
   "metadata": {},
   "source": [
    "### Contents: \n",
    "1. Installing Dependencies \n",
    "2. Import Libraries \n",
    "3. Overview of the Dataset \n",
    "4. Data Cleaning \n",
    "5. Exploratory Data Analysis (EDA) \n",
    "<br></br>\n",
    "**Note:**<br> \n",
    "This notebook presents a focus on the EDA portion of the workflow to predict customer churn using the Telco Customer Churn dataset. <br> </br>\n",
    "The notebook *customer_churn_ml.ipynb* focuses on the data preprocessing, feature engineering, pipeline and model development, and modeling and evaluation portion of the workflow. <br>\n",
    "The notebook *customer_churn_end_to_end.ipynb* contains the complete workflow, which includes code for saving the visualization figures to the **Visuals/** folder and the developed models to the **Models/** folder.  \n",
    "<br></br> \n",
    "\n"
   ]
  },
  {
   "cell_type": "markdown",
   "id": "d9bc4220",
   "metadata": {},
   "source": [
    "#### Installing Dependencies"
   ]
  },
  {
   "cell_type": "code",
   "execution_count": null,
   "id": "d59be7e2",
   "metadata": {},
   "outputs": [
    {
     "name": "stdout",
     "output_type": "stream",
     "text": [
      "Requirement already satisfied: pandas in /home/codespace/.local/lib/python3.12/site-packages (from -r ../requirements.txt (line 1)) (2.3.1)\n",
      "Requirement already satisfied: numpy in /usr/local/python/3.12.1/lib/python3.12/site-packages (from -r ../requirements.txt (line 2)) (2.2.6)\n",
      "Requirement already satisfied: matplotlib in /home/codespace/.local/lib/python3.12/site-packages (from -r ../requirements.txt (line 3)) (3.10.3)\n",
      "Requirement already satisfied: seaborn in /home/codespace/.local/lib/python3.12/site-packages (from -r ../requirements.txt (line 4)) (0.13.2)\n",
      "Collecting pathlib (from -r ../requirements.txt (line 5))\n",
      "  Downloading pathlib-1.0.1-py3-none-any.whl.metadata (5.1 kB)\n",
      "Requirement already satisfied: scikit-learn in /usr/local/python/3.12.1/lib/python3.12/site-packages (from -r ../requirements.txt (line 6)) (1.6.1)\n",
      "Requirement already satisfied: imbalanced-learn in /usr/local/python/3.12.1/lib/python3.12/site-packages (from -r ../requirements.txt (line 7)) (0.13.0)\n",
      "Requirement already satisfied: shap in /usr/local/python/3.12.1/lib/python3.12/site-packages (from -r ../requirements.txt (line 8)) (0.48.0)\n",
      "Requirement already satisfied: joblib in /home/codespace/.local/lib/python3.12/site-packages (from -r ../requirements.txt (line 9)) (1.5.1)\n",
      "Requirement already satisfied: python-dateutil>=2.8.2 in /home/codespace/.local/lib/python3.12/site-packages (from pandas->-r ../requirements.txt (line 1)) (2.9.0.post0)\n",
      "Requirement already satisfied: pytz>=2020.1 in /home/codespace/.local/lib/python3.12/site-packages (from pandas->-r ../requirements.txt (line 1)) (2025.2)\n",
      "Requirement already satisfied: tzdata>=2022.7 in /home/codespace/.local/lib/python3.12/site-packages (from pandas->-r ../requirements.txt (line 1)) (2025.2)\n",
      "Requirement already satisfied: contourpy>=1.0.1 in /home/codespace/.local/lib/python3.12/site-packages (from matplotlib->-r ../requirements.txt (line 3)) (1.3.2)\n",
      "Requirement already satisfied: cycler>=0.10 in /home/codespace/.local/lib/python3.12/site-packages (from matplotlib->-r ../requirements.txt (line 3)) (0.12.1)\n",
      "Requirement already satisfied: fonttools>=4.22.0 in /home/codespace/.local/lib/python3.12/site-packages (from matplotlib->-r ../requirements.txt (line 3)) (4.58.5)\n",
      "Requirement already satisfied: kiwisolver>=1.3.1 in /home/codespace/.local/lib/python3.12/site-packages (from matplotlib->-r ../requirements.txt (line 3)) (1.4.8)\n",
      "Requirement already satisfied: packaging>=20.0 in /home/codespace/.local/lib/python3.12/site-packages (from matplotlib->-r ../requirements.txt (line 3)) (25.0)\n",
      "Requirement already satisfied: pillow>=8 in /home/codespace/.local/lib/python3.12/site-packages (from matplotlib->-r ../requirements.txt (line 3)) (11.3.0)\n",
      "Requirement already satisfied: pyparsing>=2.3.1 in /home/codespace/.local/lib/python3.12/site-packages (from matplotlib->-r ../requirements.txt (line 3)) (3.2.3)\n",
      "Requirement already satisfied: scipy>=1.6.0 in /home/codespace/.local/lib/python3.12/site-packages (from scikit-learn->-r ../requirements.txt (line 6)) (1.16.0)\n",
      "Requirement already satisfied: threadpoolctl>=3.1.0 in /home/codespace/.local/lib/python3.12/site-packages (from scikit-learn->-r ../requirements.txt (line 6)) (3.6.0)\n",
      "Requirement already satisfied: sklearn-compat<1,>=0.1 in /usr/local/python/3.12.1/lib/python3.12/site-packages (from imbalanced-learn->-r ../requirements.txt (line 7)) (0.1.3)\n",
      "Requirement already satisfied: tqdm>=4.27.0 in /usr/local/python/3.12.1/lib/python3.12/site-packages (from shap->-r ../requirements.txt (line 8)) (4.67.1)\n",
      "Requirement already satisfied: slicer==0.0.8 in /usr/local/python/3.12.1/lib/python3.12/site-packages (from shap->-r ../requirements.txt (line 8)) (0.0.8)\n",
      "Requirement already satisfied: numba>=0.54 in /usr/local/python/3.12.1/lib/python3.12/site-packages (from shap->-r ../requirements.txt (line 8)) (0.61.2)\n",
      "Requirement already satisfied: cloudpickle in /usr/local/python/3.12.1/lib/python3.12/site-packages (from shap->-r ../requirements.txt (line 8)) (3.1.1)\n",
      "Requirement already satisfied: typing-extensions in /home/codespace/.local/lib/python3.12/site-packages (from shap->-r ../requirements.txt (line 8)) (4.14.1)\n",
      "Requirement already satisfied: llvmlite<0.45,>=0.44.0dev0 in /usr/local/python/3.12.1/lib/python3.12/site-packages (from numba>=0.54->shap->-r ../requirements.txt (line 8)) (0.44.0)\n",
      "Requirement already satisfied: six>=1.5 in /home/codespace/.local/lib/python3.12/site-packages (from python-dateutil>=2.8.2->pandas->-r ../requirements.txt (line 1)) (1.17.0)\n",
      "Downloading pathlib-1.0.1-py3-none-any.whl (14 kB)\n",
      "Installing collected packages: pathlib\n",
      "Successfully installed pathlib-1.0.1\n",
      "\n",
      "\u001b[1m[\u001b[0m\u001b[34;49mnotice\u001b[0m\u001b[1;39;49m]\u001b[0m\u001b[39;49m A new release of pip is available: \u001b[0m\u001b[31;49m25.1.1\u001b[0m\u001b[39;49m -> \u001b[0m\u001b[32;49m25.2\u001b[0m\n",
      "\u001b[1m[\u001b[0m\u001b[34;49mnotice\u001b[0m\u001b[1;39;49m]\u001b[0m\u001b[39;49m To update, run: \u001b[0m\u001b[32;49mpython -m pip install --upgrade pip\u001b[0m\n",
      "Note: you may need to restart the kernel to use updated packages.\n"
     ]
    }
   ],
   "source": [
    "# Installing dependencies via `requirements.txt`\n",
    "%pip install -r ../requirements.txt \n",
    "# If installing packages in a fresh environment, uncomment the following line \n",
    "#%pip install pandas numpy matplotlib seaborn scikit-learn imbalanced-learn shap joblib\n"
   ]
  },
  {
   "cell_type": "markdown",
   "id": "28c2b0ca",
   "metadata": {},
   "source": [
    "#### Importing Libraries"
   ]
  },
  {
   "cell_type": "code",
   "execution_count": null,
   "id": "7b69f394",
   "metadata": {},
   "outputs": [],
   "source": [
    "# Importing libraries \n",
    "import os \n",
    "import warnings \n",
    "warnings.filterwarnings('ignore') \n",
    "\n",
    "import pandas as pd \n",
    "import numpy as np \n",
    "import matplotlib.pyplot as plt \n",
    "import seaborn as sns \n",
    "from pathlib import Path \n"
   ]
  },
  {
   "cell_type": "code",
   "execution_count": null,
   "id": "7f7a2a3f",
   "metadata": {},
   "outputs": [],
   "source": [
    "# Setting random_state for reproducibility \n",
    "random_state = 42 \n",
    "np.random.seed(random_state) \n"
   ]
  },
  {
   "cell_type": "code",
   "execution_count": null,
   "id": "85b0e6da",
   "metadata": {},
   "outputs": [],
   "source": [
    "# Defining folder paths \n",
    "# Current directory --> Notebooks/ \n",
    "data_path = Path('../Data/telco_churn_data.csv').resolve() \n",
    "base_data_path = Path('../Data').resolve() \n",
    "visuals_path = Path('../Visuals').resolve()  \n",
    "models_path = Path('../Models').resolve() \n",
    "\n",
    "visuals_path.mkdir(parents=True, exist_ok=True) \n",
    "models_path.mkdir(parents=True, exist_ok=True) \n",
    "\n",
    "print(\"Data Path --> \", data_path) \n",
    "print(\"Base Data Path -- \", base_data_path) \n",
    "print(\"Visuals Path --> \", visuals_path) \n",
    "print(\"Models Path --> \", models_path) \n",
    "\n",
    "# Function to save data file(s) to Data/ folder \n",
    "# Not used in this notebook --> Used in complete End-to-End notebook \n",
    "def save_data(data: pd.DataFrame, file_name: str): \n",
    "    os.makedirs(base_data_path, exist_ok=True) \n",
    "    file_path = os.path.join(base_data_path, f\"{file_name}.csv\") \n",
    "    data.to_csv(file_path, index=False) \n",
    "    print(f\"Saved -> {file_path}\") \n",
    "\n",
    "\n"
   ]
  },
  {
   "cell_type": "code",
   "execution_count": null,
   "id": "82c73e73",
   "metadata": {},
   "outputs": [],
   "source": [
    "# Plotting settings \n",
    "sns.set_style('whitegrid') \n",
    "plt.rcParams['figure.figsize'] = (10,6) \n"
   ]
  },
  {
   "cell_type": "markdown",
   "id": "9b660a82",
   "metadata": {},
   "source": [
    "#### Overview of the Data"
   ]
  },
  {
   "cell_type": "code",
   "execution_count": null,
   "id": "9c6407bd",
   "metadata": {},
   "outputs": [],
   "source": [
    "# Loading data \n",
    "\n",
    "# file path check \n",
    "if not data_path.exists(): \n",
    "    raise FileNotFoundError(f\"Expected data at {data_path}.\") \n",
    "\n",
    "telco_data = pd.read_csv(data_path) \n",
    "telco_data.head() \n",
    "print(\"\\nData Info: \")\n",
    "print(telco_data.info())  \n",
    "\n"
   ]
  },
  {
   "cell_type": "markdown",
   "id": "07584d68",
   "metadata": {},
   "source": [
    "The Telco Customer Churn dataset contains information about customers of a telcom company. <br> \n",
    "Each row in the dataset represents a customer. \n",
    "<br></br> \n",
    "\n",
    "##### **Dataset Columns:** \n",
    "- **customerID**: Unique customer ID \n",
    "- **gender**: Whether the customer is male or female \n",
    "- **SeniorCitizen**: Whether the customer is a senior citizen or not \n",
    "- **Partner**: Whether the customer has a partner or not \n",
    "- **Dependents**: Whether the customer has dependents or not \n",
    "- **tenure**: Number of months the customer has stayed with the company \n",
    "- **PhoneService**: Whether the customer has a phone service or not \n",
    "- **MultipleLines**: Whether the customer has multiple lines (phone service) or not \n",
    "- **InternetService**: Customer's internet service provider \n",
    "- **OnlineSecurity**: Whether the customer has online security (service) or not\n",
    "- **OnlineBackup**: Whether the customer has online backup (service) or not \n",
    "- **DeviceProtection**: Whether the customer has device protection (service) or not \n",
    "- **TechSupport**: Whether the customer has tech support (service) or not \n",
    "- **StreamingTV**: Whether the customer has streaming TV (service) or not \n",
    "- **StreamingMovies**: Whether the customer has streaming movies (service) or not \n",
    "- **Contract**: The contract term of the customer \n",
    "- **PaperlessBilling**: Whether the customer has paperless billing or not \n",
    "- **PaymentMethod**: The customer's payment method \n",
    "- **MonthlyCharges**: The amount charged to the customer monthly \n",
    "- **TotalCharges**: The total amount charged to the customer \n",
    "- **Churn**: (Target variable) Whether the customer churned or not \n",
    "\n",
    "\n"
   ]
  },
  {
   "cell_type": "markdown",
   "id": "5a90fde4",
   "metadata": {},
   "source": [
    "#### Data Cleaning"
   ]
  },
  {
   "cell_type": "code",
   "execution_count": null,
   "metadata": {},
   "outputs": [],
   "source": [
    "data = telco_data.copy() \n",
    "\n",
    "# Data checks \n",
    "print(\"\\nMissing values: \") \n",
    "print(data.isna().sum()) \n",
    "\n",
    "# Checking if there are duplicate customerID values \n",
    "print(\"\\nAll unique customerID --> \", data['customerID'].nunique() == len(data)) \n",
    "\n",
    "# Converting TotalCharges to numeric \n",
    "if data['TotalCharges'].dtype == 'object': \n",
    "    data['TotalCharges'] = pd.to_numeric(data['TotalCharges'], errors='coerce') \n",
    "    print(\"\\nTotalCharges NA count (After numeric conversion): \", data['TotalCharges'].isna().sum())\n",
    "\n",
    "# Checking if any rows have tenure == 0 & TotalCharges == NaN \n",
    "# Possible for new customers \n",
    "new_cust = (data['tenure'] == 0) & (data['TotalCharges'].isna()) \n",
    "print(\"\\nRows with tenure == 0 & TotalCharges == NaN : \", new_cust.sum()) \n"
   ]
  },
  {
   "cell_type": "code",
   "execution_count": null,
   "id": "095e185b",
   "metadata": {},
   "outputs": [],
   "source": [
    "# Changing TotalCharges to 0 if tenure==0 (Assumed it is a new customer) \n",
    "# If any TotalCharges==NaN remain these will be handled later \n",
    "data.loc[(data['tenure']==0) & (data['TotalCharges'].isna()), 'TotalCharges'] = 0.0 \n",
    "print(\"Remaining NaN TotalCharges values after fix: \", data['TotalCharges'].isna().sum()) \n"
   ]
  },
  {
   "cell_type": "code",
   "execution_count": null,
   "id": "0b626474",
   "metadata": {},
   "outputs": [],
   "source": [
    "# Encoding the SeniorCitizen column to match the other columns (converting 0/1 to labels) \n",
    "data['SeniorCitizen'] = data['SeniorCitizen'].map({0:'No', 1:'Yes'}) \n",
    "print(data['SeniorCitizen'].head())\n"
   ]
  },
  {
   "cell_type": "code",
   "execution_count": null,
   "id": "5a50c450",
   "metadata": {},
   "outputs": [],
   "source": [
    "# Saving cleaned data to Data/ folder \n",
    "#save_data(data, \"cleaned_raw_data\") \n"
   ]
  },
  {
   "cell_type": "code",
   "execution_count": null,
   "id": "9a3b769c",
   "metadata": {},
   "outputs": [],
   "source": []
  },
  {
   "cell_type": "code",
   "execution_count": null,
   "id": "d104cf98",
   "metadata": {},
   "outputs": [],
   "source": []
  },
  {
   "cell_type": "code",
   "execution_count": null,
   "id": "f4d5750e",
   "metadata": {},
   "outputs": [],
   "source": []
  },
  {
   "cell_type": "code",
   "execution_count": null,
   "id": "d03597d9",
   "metadata": {},
   "outputs": [],
   "source": []
  },
  {
   "cell_type": "code",
   "execution_count": null,
   "id": "7a222253",
   "metadata": {},
   "outputs": [],
   "source": []
  }
 ],
 "metadata": {
  "kernelspec": {
   "display_name": "Python 3",
   "language": "python",
   "name": "python3"
  },
  "language_info": {
   "codemirror_mode": {
    "name": "ipython",
    "version": 3
   },
   "file_extension": ".py",
   "mimetype": "text/x-python",
   "name": "python",
   "nbconvert_exporter": "python",
   "pygments_lexer": "ipython3",
   "version": "3.12.1"
  }
 },
 "nbformat": 4,
 "nbformat_minor": 5
}
