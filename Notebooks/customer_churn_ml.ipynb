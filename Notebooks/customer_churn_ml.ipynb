{
 "cells": [
  {
   "cell_type": "markdown",
   "id": "d1e061cd",
   "metadata": {},
   "source": [
    "# Prediction with ML"
   ]
  },
  {
   "cell_type": "code",
   "execution_count": null,
   "id": "1bb7ea6e",
   "metadata": {},
   "outputs": [],
   "source": []
  }
 ],
 "metadata": {
  "kernelspec": {
   "display_name": "Python 3",
   "language": "python",
   "name": "python3"
  },
  "language_info": {
   "name": "python",
   "version": "3.12.1"
  }
 },
 "nbformat": 4,
 "nbformat_minor": 5
}
