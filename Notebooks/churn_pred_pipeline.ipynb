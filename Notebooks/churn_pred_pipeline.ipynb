{
 "cells": [
  {
   "cell_type": "code",
   "execution_count": 1,
   "id": "918bbf6e",
   "metadata": {},
   "outputs": [],
   "source": [
    "# Setting random seed \n",
    "random_state = 42 "
   ]
  },
  {
   "cell_type": "code",
   "execution_count": null,
   "id": "d09cc62a",
   "metadata": {},
   "outputs": [],
   "source": [
    "# Importing libaries \n",
    "import pandas as pd \n",
    "import numpy as np \n",
    "import matplotlib.pyplot as plt \n",
    "import seaborn as sns \n",
    "import os \n",
    "from sklearn.pipeline import Pipeline \n",
    "from sklearn.compose import ColumnTransformer \n",
    "from sklearn.preprocessing import OneHotEncoder, StandardScaler, OrdinalEncoder \n",
    "from sklearn.impute import SimpleImputer  \n",
    "from sklearn.linear_model import LogisticRegression \n",
    "from sklearn.ensemble import RandomForestClassifier \n",
    "from sklearn.model_selection import train_test_split, RandomizedSearchCV \n",
    "from sklearn.metrics import (\n",
    "    roc_auc_score, \n",
    "    precision_recall_curve, \n",
    "    average_precision_score, \n",
    "    classification_report, \n",
    "    confusion_matrix \n",
    ")\n"
   ]
  },
  {
   "cell_type": "code",
   "execution_count": null,
   "id": "34491157",
   "metadata": {},
   "outputs": [],
   "source": [
    "# Doing a check on the current directory/parent directories for defining the data path \n",
    "print(\"cwd:\", os.getcwd()) \n",
    "print(\"Files here:\", os.listdir()) \n",
    "print(\"Parent files:\", os.listdir(\"..\"))"
   ]
  },
  {
   "cell_type": "code",
   "execution_count": null,
   "id": "3baebe46",
   "metadata": {},
   "outputs": [],
   "source": [
    "# Loading data \n",
    "data_path = \"../Data/cleaned_churn_data.csv\"\n",
    "cleaned_data = pd.read_csv(data_path)  \n",
    "print(cleaned_data.info()) \n",
    "print(\"\\n\", cleaned_data.head())\n"
   ]
  },
  {
   "cell_type": "code",
   "execution_count": null,
   "id": "5b3d6d14",
   "metadata": {},
   "outputs": [],
   "source": [
    "data = cleaned_data.copy() \n"
   ]
  },
  {
   "cell_type": "code",
   "execution_count": null,
   "metadata": {},
   "outputs": [],
   "source": [
    "# Dropping customer_id column \n",
    "data = data.drop(columns=['customer_id']) \n",
    "print(data.info()) \n"
   ]
  },
  {
   "cell_type": "code",
   "execution_count": null,
   "id": "ff04090e",
   "metadata": {},
   "outputs": [],
   "source": [
    "# Mapping binary features to 0/1 \n",
    "\"\"\"\n",
    "Binary features: \n",
    "    gender, senior_citizen, partner, dependents, phone_service, paperless_billing, churn\n",
    "\n",
    "    gender: (Male, Female) --> (1, 0) \n",
    "    senior_citizen: (Yes, No) --> (1, 0) \n",
    "    partner: (Yes, No) --> (1, 0) \n",
    "    dependents: (Yes, No) --> (1, 0) \n",
    "    phone_service: (Yes, No) --> (1, 0) \n",
    "    paperless_billing: (Yes, No) --> (1, 0) \n",
    "    churn: (Yes, No) --> (1, 0) \n",
    "\"\"\"\n",
    "\n",
    "\n",
    "\n",
    "# Encoding multi-category features with OneHotEncoder \n",
    "\n",
    "\"\"\"  \n",
    "Multi-category features: \n",
    "    multiple_lines, internet_service, online_security, online_backup, device_protection, \n",
    "    tech_support, streaming_tv, streaming_movies, contract, payment_method\n",
    "\n",
    "    multiple_lines: (Yes, No, No phone service)\n",
    "    internet_service: (Yes, No, No internet service) \n",
    "    online_security: (Yes, No, No internet service) \n",
    "    online_backup: (Yes, No, No internet service) \n",
    "    device_protection: (Yes, No, No internet service) \n",
    "    tech_support: (Yes, No, No internet service)\n",
    "    streaming_tv: (Yes, No, No internet service) \n",
    "    streaming_movies: (Yes, No, No internet service) \n",
    "    contract: (month_to_month, one_year, two_year) \n",
    "    payment_method: (electronic_check, mailed_check, bank_transfer, credit_card) \n",
    "\"\"\"\n",
    "\n",
    "\n",
    "\n",
    "\n"
   ]
  },
  {
   "cell_type": "code",
   "execution_count": null,
   "id": "9995533f",
   "metadata": {},
   "outputs": [],
   "source": [
    "# Feature Engineering \n",
    "\"\"\" \n",
    "Average Charges Per Month --> Representing payment pattern \n",
    "Multiple Services --> Identifying bundled services opportunities \n",
    "Long Tenure --> Tagging long-time customers \n",
    "Month to Month Contracts --> Tagging month-to-month \n",
    "\n",
    "\"\"\"\n",
    "\n"
   ]
  },
  {
   "cell_type": "code",
   "execution_count": null,
   "id": "a0e9e8cd",
   "metadata": {},
   "outputs": [],
   "source": []
  },
  {
   "cell_type": "code",
   "execution_count": null,
   "id": "91c6e7b9",
   "metadata": {},
   "outputs": [],
   "source": []
  },
  {
   "cell_type": "code",
   "execution_count": null,
   "id": "ff8d9ec1",
   "metadata": {},
   "outputs": [],
   "source": []
  },
  {
   "cell_type": "code",
   "execution_count": null,
   "id": "f9d46f24",
   "metadata": {},
   "outputs": [],
   "source": []
  }
 ],
 "metadata": {
  "kernelspec": {
   "display_name": "Python 3",
   "language": "python",
   "name": "python3"
  },
  "language_info": {
   "codemirror_mode": {
    "name": "ipython",
    "version": 3
   },
   "file_extension": ".py",
   "mimetype": "text/x-python",
   "name": "python",
   "nbconvert_exporter": "python",
   "pygments_lexer": "ipython3",
   "version": "3.12.1"
  }
 },
 "nbformat": 4,
 "nbformat_minor": 5
}
